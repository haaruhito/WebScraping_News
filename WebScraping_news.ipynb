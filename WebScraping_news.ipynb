{
 "cells": [
  {
   "cell_type": "markdown",
   "id": "16165a6a",
   "metadata": {},
   "source": [
    "# Project Discription\n",
    "The aim of this project is to extract titles and content of a news website in order to find common words used in the news. The name of website is, https://www.foreigner.fi. We are extracting only National news from this website (https://www.foreigner.fi/blog/section/national). For this project, we have taken first 30 pages from the website.\n",
    "\n",
    "This is a group work by Pawan Singh, Shree Sapkota and Swostik Shrestha."
   ]
  },
  {
   "cell_type": "markdown",
   "id": "49c2333b",
   "metadata": {},
   "source": [
    "# Importing libraries"
   ]
  },
  {
   "cell_type": "code",
   "execution_count": 1,
   "id": "9711f850",
   "metadata": {
    "ExecuteTime": {
     "end_time": "2021-08-25T11:00:18.966789Z",
     "start_time": "2021-08-25T10:59:24.358732Z"
    }
   },
   "outputs": [],
   "source": [
    "import requests\n",
    "from bs4 import BeautifulSoup\n",
    "import pandas as pd\n",
    "from collections import Counter\n",
    "from itertools import chain\n",
    "import re\n",
    "from datetime import datetime\n",
    "\n",
    "import matplotlib.pyplot as plt\n",
    "import plotly.express as px\n",
    "from wordcloud import WordCloud\n",
    "\n",
    "# To filter certain words\n",
    "import nltk\n",
    "from nltk.corpus import stopwords\n",
    "# There are various stopwords in different languages. We need to download once to use them. \n",
    "#nltk.download('stopwords')"
   ]
  },
  {
   "cell_type": "markdown",
   "id": "78c2b58c",
   "metadata": {
    "ExecuteTime": {
     "end_time": "2021-08-25T08:34:36.341778Z",
     "start_time": "2021-08-25T08:34:36.325779Z"
    }
   },
   "source": [
    "# Data collection using requests\n",
    "* \" **Requests** is an Apache2 Licensed HTTP library, that allows to send HTTP/1.1 requests using Python.\n",
    "* To play with web, Python Requests is must. Whether it be hitting APIs, downloading entire facebook pages, and much more cool stuff, one will have to make a request to the URL.\n",
    "* Requests play a major role is dealing with REST APIs, and Web Scrapping.\" (Source - geeksforgeeks.org)\n",
    "\n",
    "* \"**Beautiful Soup** is a library that makes it easy to scrape information from web pages.\" Source- pypi.org"
   ]
  },
  {
   "cell_type": "code",
   "execution_count": 54,
   "id": "8161a9ba",
   "metadata": {
    "ExecuteTime": {
     "end_time": "2021-08-25T11:16:39.569038Z",
     "start_time": "2021-08-25T11:16:39.555047Z"
    }
   },
   "outputs": [],
   "source": [
    "# This is the url from where we start extracting data\n",
    "url = \"https://www.foreigner.fi/blog/section/national\""
   ]
  },
  {
   "cell_type": "code",
   "execution_count": 55,
   "id": "f9757a4f",
   "metadata": {
    "ExecuteTime": {
     "end_time": "2021-08-25T11:16:39.927530Z",
     "start_time": "2021-08-25T11:16:39.572036Z"
    }
   },
   "outputs": [],
   "source": [
    "req = requests.get(url)"
   ]
  },
  {
   "cell_type": "markdown",
   "id": "edffe51e",
   "metadata": {},
   "source": [
    "Here, 'req' is the response object and we can get all the information from this object."
   ]
  },
  {
   "cell_type": "code",
   "execution_count": 56,
   "id": "8ad10bd0",
   "metadata": {
    "ExecuteTime": {
     "end_time": "2021-08-25T11:16:39.942521Z",
     "start_time": "2021-08-25T11:16:39.931529Z"
    }
   },
   "outputs": [
    {
     "data": {
      "text/plain": [
       "200"
      ]
     },
     "execution_count": 56,
     "metadata": {},
     "output_type": "execute_result"
    }
   ],
   "source": [
    "req.status_code"
   ]
  },
  {
   "cell_type": "code",
   "execution_count": 57,
   "id": "fe245644",
   "metadata": {
    "ExecuteTime": {
     "end_time": "2021-08-25T11:16:40.211318Z",
     "start_time": "2021-08-25T11:16:39.946520Z"
    }
   },
   "outputs": [],
   "source": [
    "soup = BeautifulSoup(req.content, features='html.parser')"
   ]
  },
  {
   "cell_type": "markdown",
   "id": "0c4d498c",
   "metadata": {},
   "source": [
    "Now we will find all the links existed in the link in the given url."
   ]
  },
  {
   "cell_type": "code",
   "execution_count": 58,
   "id": "5576bea5",
   "metadata": {
    "ExecuteTime": {
     "end_time": "2021-08-25T11:16:40.245301Z",
     "start_time": "2021-08-25T11:16:40.216318Z"
    }
   },
   "outputs": [],
   "source": [
    "links_=[]\n",
    "for i in soup.find_all('h2',{'class':'title'}):\n",
    "    for k in i.find_all('a'):\n",
    "        links_.append(k['href'])\n"
   ]
  },
  {
   "cell_type": "code",
   "execution_count": 59,
   "id": "54adf22b",
   "metadata": {
    "ExecuteTime": {
     "end_time": "2021-08-25T11:16:40.380231Z",
     "start_time": "2021-08-25T11:16:40.251294Z"
    }
   },
   "outputs": [
    {
     "data": {
      "text/plain": [
       "'/articulo/national/government-raises-number-of-afghans-to-evacuate-to-finland-to-298/20210825094359013542.html'"
      ]
     },
     "execution_count": 59,
     "metadata": {},
     "output_type": "execute_result"
    }
   ],
   "source": [
    "links_[0]"
   ]
  },
  {
   "cell_type": "markdown",
   "id": "311b03c9",
   "metadata": {},
   "source": [
    "If we check the first element in our list, 'link', the address is still not complete. We need to add 'https:// www .foreigner. fi' to all links. Lets do it as follows."
   ]
  },
  {
   "cell_type": "code",
   "execution_count": 60,
   "id": "30fa8182",
   "metadata": {
    "ExecuteTime": {
     "end_time": "2021-08-25T11:16:40.534791Z",
     "start_time": "2021-08-25T11:16:40.384229Z"
    }
   },
   "outputs": [],
   "source": [
    "links=[]\n",
    "for i in links_:\n",
    "    a = 'https://www.foreigner.fi' + i\n",
    "    links.append(a)"
   ]
  },
  {
   "cell_type": "code",
   "execution_count": 61,
   "id": "c023ab69",
   "metadata": {
    "ExecuteTime": {
     "end_time": "2021-08-25T11:16:40.660083Z",
     "start_time": "2021-08-25T11:16:40.539785Z"
    }
   },
   "outputs": [
    {
     "data": {
      "text/plain": [
       "'https://www.foreigner.fi/articulo/national/government-raises-number-of-afghans-to-evacuate-to-finland-to-298/20210825094359013542.html'"
      ]
     },
     "execution_count": 61,
     "metadata": {},
     "output_type": "execute_result"
    }
   ],
   "source": [
    "\n",
    "links[0]"
   ]
  },
  {
   "cell_type": "markdown",
   "id": "1faa88ec",
   "metadata": {},
   "source": [
    "Now, we can check if we get successfull response when we send a get request to these links as follows."
   ]
  },
  {
   "cell_type": "code",
   "execution_count": 62,
   "id": "c28a9ea7",
   "metadata": {
    "ExecuteTime": {
     "end_time": "2021-08-25T11:16:40.922658Z",
     "start_time": "2021-08-25T11:16:40.667080Z"
    }
   },
   "outputs": [
    {
     "data": {
      "text/plain": [
       "<Response [200]>"
      ]
     },
     "execution_count": 62,
     "metadata": {},
     "output_type": "execute_result"
    }
   ],
   "source": [
    "requests.get(links[0])"
   ]
  },
  {
   "cell_type": "markdown",
   "id": "31c8cd5b",
   "metadata": {},
   "source": [
    "So, from first link we get a successful response (200)"
   ]
  },
  {
   "cell_type": "markdown",
   "id": "2f765ff2",
   "metadata": {},
   "source": [
    "# Finding all links from different pages\n",
    "We will use 30 pages (each page has 20 links of news) to extract all the links (20*30=600 links) and then extract data from each links below."
   ]
  },
  {
   "cell_type": "code",
   "execution_count": 63,
   "id": "d2d4f6f4",
   "metadata": {
    "ExecuteTime": {
     "end_time": "2021-08-25T11:17:07.838989Z",
     "start_time": "2021-08-25T11:16:40.927657Z"
    }
   },
   "outputs": [],
   "source": [
    "page_url = 'https://www.foreigner.fi/blog/section/national'\n",
    "links_=[]\n",
    "for i in range(30):\n",
    "    reqst = requests.get(page_url) \n",
    "    soup_ = BeautifulSoup(reqst.content, features='html.parser')\n",
    "# Finding news headlines (titles) from 1st page. (But it will be another page in second loop)\n",
    "    for i in soup_.find_all('h2',{'class':'title'}):\n",
    "        for k in i.find_all('a'):\n",
    "            links_.append(k['href'])\n",
    "# now, we will find link of the next page \n",
    "    next_ = soup_.find('li',{'class':'next'}).find('a')['href']\n",
    "# Now we will go the the next page.\n",
    "    page_url = 'https://www.foreigner.fi' + next_"
   ]
  },
  {
   "cell_type": "markdown",
   "id": "540df9d7",
   "metadata": {},
   "source": [
    "There are 20 news headlines (20 links) in each page. So, in 30 pages, we have.. 30*20 = 600 news headlines (links)"
   ]
  },
  {
   "cell_type": "code",
   "execution_count": 64,
   "id": "f4ab46b1",
   "metadata": {
    "ExecuteTime": {
     "end_time": "2021-08-25T11:17:07.887962Z",
     "start_time": "2021-08-25T11:17:07.841989Z"
    }
   },
   "outputs": [
    {
     "data": {
      "text/plain": [
       "600"
      ]
     },
     "execution_count": 64,
     "metadata": {},
     "output_type": "execute_result"
    }
   ],
   "source": [
    "len(links_)"
   ]
  },
  {
   "cell_type": "markdown",
   "id": "e3973627",
   "metadata": {},
   "source": [
    "Now, from each link we will extract the data. The data includes, news headline, date of publication and the contents of the news."
   ]
  },
  {
   "cell_type": "code",
   "execution_count": 65,
   "id": "35f76ba6",
   "metadata": {
    "ExecuteTime": {
     "end_time": "2021-08-25T11:23:02.314168Z",
     "start_time": "2021-08-25T11:17:07.893957Z"
    }
   },
   "outputs": [],
   "source": [
    "news_headlines = []\n",
    "dates_ = []\n",
    "all_words = []\n",
    "for i in links_:\n",
    "    #print(i)\n",
    "    response_ = requests.get('https://www.foreigner.fi'+i)\n",
    "    soup_ = BeautifulSoup(response_.content)\n",
    "    # Extracting headlines\n",
    "    news_headlines.append(soup_.find('title').text)\n",
    "    # Extracting dates\n",
    "    dates_.append(soup_.find('span',{'class':'content-time'}).text.strip())\n",
    "    # Extracting all words\n",
    "    \n",
    "    \n",
    "    words = soup_.find('div', {'class':'body national'}).text\n",
    "    all_words.append(' '.join(words.split()))"
   ]
  },
  {
   "cell_type": "markdown",
   "id": "31e9eae2",
   "metadata": {},
   "source": [
    "Now we have three list as shown above and now we will covert these lists into pandas dataframe and do the data processing and analysis."
   ]
  },
  {
   "cell_type": "markdown",
   "id": "42c6965b",
   "metadata": {},
   "source": [
    "# Converting into pandas dataframe"
   ]
  },
  {
   "cell_type": "code",
   "execution_count": 66,
   "id": "ebb064c0",
   "metadata": {
    "ExecuteTime": {
     "end_time": "2021-08-25T11:23:02.330116Z",
     "start_time": "2021-08-25T11:23:02.317124Z"
    }
   },
   "outputs": [],
   "source": [
    "df = pd.DataFrame({'Dates': dates_, 'Titles':news_headlines,'Content':all_words})"
   ]
  },
  {
   "cell_type": "code",
   "execution_count": 67,
   "id": "9e8e62a1",
   "metadata": {
    "ExecuteTime": {
     "end_time": "2021-08-25T11:23:02.583962Z",
     "start_time": "2021-08-25T11:23:02.363097Z"
    }
   },
   "outputs": [
    {
     "data": {
      "text/html": [
       "<div>\n",
       "<style scoped>\n",
       "    .dataframe tbody tr th:only-of-type {\n",
       "        vertical-align: middle;\n",
       "    }\n",
       "\n",
       "    .dataframe tbody tr th {\n",
       "        vertical-align: top;\n",
       "    }\n",
       "\n",
       "    .dataframe thead th {\n",
       "        text-align: right;\n",
       "    }\n",
       "</style>\n",
       "<table border=\"1\" class=\"dataframe\">\n",
       "  <thead>\n",
       "    <tr style=\"text-align: right;\">\n",
       "      <th></th>\n",
       "      <th>Dates</th>\n",
       "      <th>Titles</th>\n",
       "      <th>Content</th>\n",
       "    </tr>\n",
       "  </thead>\n",
       "  <tbody>\n",
       "    <tr>\n",
       "      <th>0</th>\n",
       "      <td>August 25, 2021 at 9:44 AM</td>\n",
       "      <td>Government raises number of Afghans to evacuat...</td>\n",
       "      <td>The Finnish coalition government chaired by Pr...</td>\n",
       "    </tr>\n",
       "    <tr>\n",
       "      <th>1</th>\n",
       "      <td>August 24, 2021 at 4:11 PM</td>\n",
       "      <td>Finland has evacuated more than 200 people fro...</td>\n",
       "      <td>Finland has already facilitated the evacuation...</td>\n",
       "    </tr>\n",
       "    <tr>\n",
       "      <th>2</th>\n",
       "      <td>August 23, 2021 at 7:26 PM</td>\n",
       "      <td>Police to monitor drivers' behaviour near cros...</td>\n",
       "      <td>Following the control campaign conducted two w...</td>\n",
       "    </tr>\n",
       "    <tr>\n",
       "      <th>3</th>\n",
       "      <td>August 23, 2021 at 5:40 PM</td>\n",
       "      <td>Finland to open an embassy in Dakar</td>\n",
       "      <td>The Ministry for Foreign Affairs is making pre...</td>\n",
       "    </tr>\n",
       "    <tr>\n",
       "      <th>4</th>\n",
       "      <td>August 23, 2021 at 9:39 AM</td>\n",
       "      <td>Number of Afghans evacuated by the Finnish gov...</td>\n",
       "      <td>Foreign Minister Pekka Haavisto said Monday mo...</td>\n",
       "    </tr>\n",
       "  </tbody>\n",
       "</table>\n",
       "</div>"
      ],
      "text/plain": [
       "                        Dates  \\\n",
       "0  August 25, 2021 at 9:44 AM   \n",
       "1  August 24, 2021 at 4:11 PM   \n",
       "2  August 23, 2021 at 7:26 PM   \n",
       "3  August 23, 2021 at 5:40 PM   \n",
       "4  August 23, 2021 at 9:39 AM   \n",
       "\n",
       "                                              Titles  \\\n",
       "0  Government raises number of Afghans to evacuat...   \n",
       "1  Finland has evacuated more than 200 people fro...   \n",
       "2  Police to monitor drivers' behaviour near cros...   \n",
       "3                Finland to open an embassy in Dakar   \n",
       "4  Number of Afghans evacuated by the Finnish gov...   \n",
       "\n",
       "                                             Content  \n",
       "0  The Finnish coalition government chaired by Pr...  \n",
       "1  Finland has already facilitated the evacuation...  \n",
       "2  Following the control campaign conducted two w...  \n",
       "3  The Ministry for Foreign Affairs is making pre...  \n",
       "4  Foreign Minister Pekka Haavisto said Monday mo...  "
      ]
     },
     "execution_count": 67,
     "metadata": {},
     "output_type": "execute_result"
    }
   ],
   "source": [
    "df.head()"
   ]
  },
  {
   "cell_type": "markdown",
   "id": "08288bda",
   "metadata": {},
   "source": [
    "We will also count the number of words in 'Titles' and 'Content' and add them in our dataframe as show as below."
   ]
  },
  {
   "cell_type": "code",
   "execution_count": 68,
   "id": "cab13ddb",
   "metadata": {
    "ExecuteTime": {
     "end_time": "2021-08-25T11:23:02.703884Z",
     "start_time": "2021-08-25T11:23:02.596951Z"
    }
   },
   "outputs": [],
   "source": [
    "df['word_count_title'] = [len(i.split()) for i in df['Titles']]\n",
    "#Method 2\n",
    "#df['word_count_title'] = df['Title'].map(lambda x:len(x.split()))"
   ]
  },
  {
   "cell_type": "code",
   "execution_count": 69,
   "id": "699f62f5",
   "metadata": {
    "ExecuteTime": {
     "end_time": "2021-08-25T11:23:02.844833Z",
     "start_time": "2021-08-25T11:23:02.706883Z"
    }
   },
   "outputs": [],
   "source": [
    "df['word_count_Content'] = [len(i.split()) for i in df['Content']]"
   ]
  },
  {
   "cell_type": "code",
   "execution_count": 70,
   "id": "ed7b9452",
   "metadata": {
    "ExecuteTime": {
     "end_time": "2021-08-25T11:23:02.987267Z",
     "start_time": "2021-08-25T11:23:02.847832Z"
    }
   },
   "outputs": [
    {
     "data": {
      "text/html": [
       "<div>\n",
       "<style scoped>\n",
       "    .dataframe tbody tr th:only-of-type {\n",
       "        vertical-align: middle;\n",
       "    }\n",
       "\n",
       "    .dataframe tbody tr th {\n",
       "        vertical-align: top;\n",
       "    }\n",
       "\n",
       "    .dataframe thead th {\n",
       "        text-align: right;\n",
       "    }\n",
       "</style>\n",
       "<table border=\"1\" class=\"dataframe\">\n",
       "  <thead>\n",
       "    <tr style=\"text-align: right;\">\n",
       "      <th></th>\n",
       "      <th>Dates</th>\n",
       "      <th>Titles</th>\n",
       "      <th>Content</th>\n",
       "      <th>word_count_title</th>\n",
       "      <th>word_count_Content</th>\n",
       "    </tr>\n",
       "  </thead>\n",
       "  <tbody>\n",
       "    <tr>\n",
       "      <th>0</th>\n",
       "      <td>August 25, 2021 at 9:44 AM</td>\n",
       "      <td>Government raises number of Afghans to evacuat...</td>\n",
       "      <td>The Finnish coalition government chaired by Pr...</td>\n",
       "      <td>11</td>\n",
       "      <td>240</td>\n",
       "    </tr>\n",
       "    <tr>\n",
       "      <th>1</th>\n",
       "      <td>August 24, 2021 at 4:11 PM</td>\n",
       "      <td>Finland has evacuated more than 200 people fro...</td>\n",
       "      <td>Finland has already facilitated the evacuation...</td>\n",
       "      <td>9</td>\n",
       "      <td>439</td>\n",
       "    </tr>\n",
       "    <tr>\n",
       "      <th>2</th>\n",
       "      <td>August 23, 2021 at 7:26 PM</td>\n",
       "      <td>Police to monitor drivers' behaviour near cros...</td>\n",
       "      <td>Following the control campaign conducted two w...</td>\n",
       "      <td>9</td>\n",
       "      <td>355</td>\n",
       "    </tr>\n",
       "    <tr>\n",
       "      <th>3</th>\n",
       "      <td>August 23, 2021 at 5:40 PM</td>\n",
       "      <td>Finland to open an embassy in Dakar</td>\n",
       "      <td>The Ministry for Foreign Affairs is making pre...</td>\n",
       "      <td>7</td>\n",
       "      <td>298</td>\n",
       "    </tr>\n",
       "    <tr>\n",
       "      <th>4</th>\n",
       "      <td>August 23, 2021 at 9:39 AM</td>\n",
       "      <td>Number of Afghans evacuated by the Finnish gov...</td>\n",
       "      <td>Foreign Minister Pekka Haavisto said Monday mo...</td>\n",
       "      <td>11</td>\n",
       "      <td>540</td>\n",
       "    </tr>\n",
       "  </tbody>\n",
       "</table>\n",
       "</div>"
      ],
      "text/plain": [
       "                        Dates  \\\n",
       "0  August 25, 2021 at 9:44 AM   \n",
       "1  August 24, 2021 at 4:11 PM   \n",
       "2  August 23, 2021 at 7:26 PM   \n",
       "3  August 23, 2021 at 5:40 PM   \n",
       "4  August 23, 2021 at 9:39 AM   \n",
       "\n",
       "                                              Titles  \\\n",
       "0  Government raises number of Afghans to evacuat...   \n",
       "1  Finland has evacuated more than 200 people fro...   \n",
       "2  Police to monitor drivers' behaviour near cros...   \n",
       "3                Finland to open an embassy in Dakar   \n",
       "4  Number of Afghans evacuated by the Finnish gov...   \n",
       "\n",
       "                                             Content  word_count_title  \\\n",
       "0  The Finnish coalition government chaired by Pr...                11   \n",
       "1  Finland has already facilitated the evacuation...                 9   \n",
       "2  Following the control campaign conducted two w...                 9   \n",
       "3  The Ministry for Foreign Affairs is making pre...                 7   \n",
       "4  Foreign Minister Pekka Haavisto said Monday mo...                11   \n",
       "\n",
       "   word_count_Content  \n",
       "0                 240  \n",
       "1                 439  \n",
       "2                 355  \n",
       "3                 298  \n",
       "4                 540  "
      ]
     },
     "execution_count": 70,
     "metadata": {},
     "output_type": "execute_result"
    }
   ],
   "source": [
    "df.head()"
   ]
  },
  {
   "cell_type": "markdown",
   "id": "d999609f",
   "metadata": {},
   "source": [
    "From the above dataframe we can see, Dates, Titles and its contents. Also, we can see how many words a title have and how many words the contents have"
   ]
  },
  {
   "cell_type": "markdown",
   "id": "1b01964c",
   "metadata": {},
   "source": [
    "## Saving a file to local machine\n",
    "We will save the dataframe to our local machine so that we dont have to run all the above codes again and again."
   ]
  },
  {
   "cell_type": "code",
   "execution_count": 71,
   "id": "1f71379a",
   "metadata": {
    "ExecuteTime": {
     "end_time": "2021-08-25T11:23:03.115012Z",
     "start_time": "2021-08-25T11:23:02.990266Z"
    }
   },
   "outputs": [],
   "source": [
    "df.to_pickle(\"foreigner_news.pkl\")"
   ]
  },
  {
   "cell_type": "code",
   "execution_count": 72,
   "id": "272b1dbb",
   "metadata": {
    "ExecuteTime": {
     "end_time": "2021-08-25T11:23:03.257110Z",
     "start_time": "2021-08-25T11:23:03.119009Z"
    }
   },
   "outputs": [],
   "source": [
    "df = pd.read_pickle('foreigner_news.pkl')"
   ]
  },
  {
   "cell_type": "markdown",
   "id": "661f6fe2",
   "metadata": {},
   "source": [
    "Reading a pickle file\n",
    "\n",
    "When we save a dataframe to a pickle file in local computer we can read it using pd.read_pickle()"
   ]
  },
  {
   "cell_type": "code",
   "execution_count": 73,
   "id": "41825aed",
   "metadata": {
    "ExecuteTime": {
     "end_time": "2021-08-25T11:23:03.382182Z",
     "start_time": "2021-08-25T11:23:03.261108Z"
    }
   },
   "outputs": [
    {
     "data": {
      "text/html": [
       "<div>\n",
       "<style scoped>\n",
       "    .dataframe tbody tr th:only-of-type {\n",
       "        vertical-align: middle;\n",
       "    }\n",
       "\n",
       "    .dataframe tbody tr th {\n",
       "        vertical-align: top;\n",
       "    }\n",
       "\n",
       "    .dataframe thead th {\n",
       "        text-align: right;\n",
       "    }\n",
       "</style>\n",
       "<table border=\"1\" class=\"dataframe\">\n",
       "  <thead>\n",
       "    <tr style=\"text-align: right;\">\n",
       "      <th></th>\n",
       "      <th>Dates</th>\n",
       "      <th>Titles</th>\n",
       "      <th>Content</th>\n",
       "      <th>word_count_title</th>\n",
       "      <th>word_count_Content</th>\n",
       "    </tr>\n",
       "  </thead>\n",
       "  <tbody>\n",
       "    <tr>\n",
       "      <th>0</th>\n",
       "      <td>August 25, 2021 at 9:44 AM</td>\n",
       "      <td>Government raises number of Afghans to evacuat...</td>\n",
       "      <td>The Finnish coalition government chaired by Pr...</td>\n",
       "      <td>11</td>\n",
       "      <td>240</td>\n",
       "    </tr>\n",
       "    <tr>\n",
       "      <th>1</th>\n",
       "      <td>August 24, 2021 at 4:11 PM</td>\n",
       "      <td>Finland has evacuated more than 200 people fro...</td>\n",
       "      <td>Finland has already facilitated the evacuation...</td>\n",
       "      <td>9</td>\n",
       "      <td>439</td>\n",
       "    </tr>\n",
       "    <tr>\n",
       "      <th>2</th>\n",
       "      <td>August 23, 2021 at 7:26 PM</td>\n",
       "      <td>Police to monitor drivers' behaviour near cros...</td>\n",
       "      <td>Following the control campaign conducted two w...</td>\n",
       "      <td>9</td>\n",
       "      <td>355</td>\n",
       "    </tr>\n",
       "    <tr>\n",
       "      <th>3</th>\n",
       "      <td>August 23, 2021 at 5:40 PM</td>\n",
       "      <td>Finland to open an embassy in Dakar</td>\n",
       "      <td>The Ministry for Foreign Affairs is making pre...</td>\n",
       "      <td>7</td>\n",
       "      <td>298</td>\n",
       "    </tr>\n",
       "    <tr>\n",
       "      <th>4</th>\n",
       "      <td>August 23, 2021 at 9:39 AM</td>\n",
       "      <td>Number of Afghans evacuated by the Finnish gov...</td>\n",
       "      <td>Foreign Minister Pekka Haavisto said Monday mo...</td>\n",
       "      <td>11</td>\n",
       "      <td>540</td>\n",
       "    </tr>\n",
       "    <tr>\n",
       "      <th>...</th>\n",
       "      <td>...</td>\n",
       "      <td>...</td>\n",
       "      <td>...</td>\n",
       "      <td>...</td>\n",
       "      <td>...</td>\n",
       "    </tr>\n",
       "    <tr>\n",
       "      <th>595</th>\n",
       "      <td>October 3, 2019 at 4:28 PM</td>\n",
       "      <td>Rinne to meet representatives of the attacked ...</td>\n",
       "      <td>Prime Minister Antti Rinne will visit Kuopio o...</td>\n",
       "      <td>11</td>\n",
       "      <td>92</td>\n",
       "    </tr>\n",
       "    <tr>\n",
       "      <th>596</th>\n",
       "      <td>October 3, 2019 at 1:50 PM</td>\n",
       "      <td>President Niinistö met Donald Trump in the Whi...</td>\n",
       "      <td>President Sauli Niinistö made this week an off...</td>\n",
       "      <td>9</td>\n",
       "      <td>185</td>\n",
       "    </tr>\n",
       "    <tr>\n",
       "      <th>597</th>\n",
       "      <td>October 3, 2019 at 12:28 PM</td>\n",
       "      <td>The victim of the attack at Kuopio College is ...</td>\n",
       "      <td>The victim of the attack perpetrated on Tuesda...</td>\n",
       "      <td>13</td>\n",
       "      <td>416</td>\n",
       "    </tr>\n",
       "    <tr>\n",
       "      <th>598</th>\n",
       "      <td>October 2, 2019 at 1:29 PM</td>\n",
       "      <td>Kuopio school attack: perpetrator acted alone,...</td>\n",
       "      <td>Finnish National Bureau of Investigation (Kesk...</td>\n",
       "      <td>9</td>\n",
       "      <td>298</td>\n",
       "    </tr>\n",
       "    <tr>\n",
       "      <th>599</th>\n",
       "      <td>October 2, 2019 at 8:47 AM</td>\n",
       "      <td>Kuopio school attack: 5 unknowns of the case</td>\n",
       "      <td>Finnish public opinion attended yesterday in s...</td>\n",
       "      <td>8</td>\n",
       "      <td>617</td>\n",
       "    </tr>\n",
       "  </tbody>\n",
       "</table>\n",
       "<p>600 rows × 5 columns</p>\n",
       "</div>"
      ],
      "text/plain": [
       "                           Dates  \\\n",
       "0     August 25, 2021 at 9:44 AM   \n",
       "1     August 24, 2021 at 4:11 PM   \n",
       "2     August 23, 2021 at 7:26 PM   \n",
       "3     August 23, 2021 at 5:40 PM   \n",
       "4     August 23, 2021 at 9:39 AM   \n",
       "..                           ...   \n",
       "595   October 3, 2019 at 4:28 PM   \n",
       "596   October 3, 2019 at 1:50 PM   \n",
       "597  October 3, 2019 at 12:28 PM   \n",
       "598   October 2, 2019 at 1:29 PM   \n",
       "599   October 2, 2019 at 8:47 AM   \n",
       "\n",
       "                                                Titles  \\\n",
       "0    Government raises number of Afghans to evacuat...   \n",
       "1    Finland has evacuated more than 200 people fro...   \n",
       "2    Police to monitor drivers' behaviour near cros...   \n",
       "3                  Finland to open an embassy in Dakar   \n",
       "4    Number of Afghans evacuated by the Finnish gov...   \n",
       "..                                                 ...   \n",
       "595  Rinne to meet representatives of the attacked ...   \n",
       "596  President Niinistö met Donald Trump in the Whi...   \n",
       "597  The victim of the attack at Kuopio College is ...   \n",
       "598  Kuopio school attack: perpetrator acted alone,...   \n",
       "599       Kuopio school attack: 5 unknowns of the case   \n",
       "\n",
       "                                               Content  word_count_title  \\\n",
       "0    The Finnish coalition government chaired by Pr...                11   \n",
       "1    Finland has already facilitated the evacuation...                 9   \n",
       "2    Following the control campaign conducted two w...                 9   \n",
       "3    The Ministry for Foreign Affairs is making pre...                 7   \n",
       "4    Foreign Minister Pekka Haavisto said Monday mo...                11   \n",
       "..                                                 ...               ...   \n",
       "595  Prime Minister Antti Rinne will visit Kuopio o...                11   \n",
       "596  President Sauli Niinistö made this week an off...                 9   \n",
       "597  The victim of the attack perpetrated on Tuesda...                13   \n",
       "598  Finnish National Bureau of Investigation (Kesk...                 9   \n",
       "599  Finnish public opinion attended yesterday in s...                 8   \n",
       "\n",
       "     word_count_Content  \n",
       "0                   240  \n",
       "1                   439  \n",
       "2                   355  \n",
       "3                   298  \n",
       "4                   540  \n",
       "..                  ...  \n",
       "595                  92  \n",
       "596                 185  \n",
       "597                 416  \n",
       "598                 298  \n",
       "599                 617  \n",
       "\n",
       "[600 rows x 5 columns]"
      ]
     },
     "execution_count": 73,
     "metadata": {},
     "output_type": "execute_result"
    }
   ],
   "source": [
    "df"
   ]
  },
  {
   "cell_type": "markdown",
   "id": "fb6d686d",
   "metadata": {},
   "source": [
    "# Data Cleaning"
   ]
  },
  {
   "cell_type": "code",
   "execution_count": 74,
   "id": "796774c0",
   "metadata": {
    "ExecuteTime": {
     "end_time": "2021-08-25T11:23:03.508526Z",
     "start_time": "2021-08-25T11:23:03.385178Z"
    }
   },
   "outputs": [
    {
     "name": "stdout",
     "output_type": "stream",
     "text": [
      "<class 'pandas.core.frame.DataFrame'>\n",
      "RangeIndex: 600 entries, 0 to 599\n",
      "Data columns (total 5 columns):\n",
      " #   Column              Non-Null Count  Dtype \n",
      "---  ------              --------------  ----- \n",
      " 0   Dates               600 non-null    object\n",
      " 1   Titles              600 non-null    object\n",
      " 2   Content             600 non-null    object\n",
      " 3   word_count_title    600 non-null    int64 \n",
      " 4   word_count_Content  600 non-null    int64 \n",
      "dtypes: int64(2), object(3)\n",
      "memory usage: 23.6+ KB\n"
     ]
    }
   ],
   "source": [
    "df.info()"
   ]
  },
  {
   "cell_type": "markdown",
   "id": "487bd68e",
   "metadata": {},
   "source": [
    "From the information we can see taht there are 600 rows of data. First we convert 'Dates' column in Datatime format. We will convert all the text in 'Title' and in 'Contents' in lowercase, so that its easy to count the words. We will also remove unnessary words in the text as defined in stopwords below."
   ]
  },
  {
   "cell_type": "code",
   "execution_count": 75,
   "id": "f0fadd5c",
   "metadata": {
    "ExecuteTime": {
     "end_time": "2021-08-25T11:23:03.896698Z",
     "start_time": "2021-08-25T11:23:03.512525Z"
    }
   },
   "outputs": [],
   "source": [
    "df['Dates'] = pd.to_datetime(df['Dates'])"
   ]
  },
  {
   "cell_type": "code",
   "execution_count": 76,
   "id": "da7db5e3",
   "metadata": {
    "ExecuteTime": {
     "end_time": "2021-08-25T11:23:03.928676Z",
     "start_time": "2021-08-25T11:23:03.899696Z"
    }
   },
   "outputs": [
    {
     "data": {
      "text/html": [
       "<div>\n",
       "<style scoped>\n",
       "    .dataframe tbody tr th:only-of-type {\n",
       "        vertical-align: middle;\n",
       "    }\n",
       "\n",
       "    .dataframe tbody tr th {\n",
       "        vertical-align: top;\n",
       "    }\n",
       "\n",
       "    .dataframe thead th {\n",
       "        text-align: right;\n",
       "    }\n",
       "</style>\n",
       "<table border=\"1\" class=\"dataframe\">\n",
       "  <thead>\n",
       "    <tr style=\"text-align: right;\">\n",
       "      <th></th>\n",
       "      <th>Dates</th>\n",
       "      <th>Titles</th>\n",
       "      <th>Content</th>\n",
       "      <th>word_count_title</th>\n",
       "      <th>word_count_Content</th>\n",
       "    </tr>\n",
       "  </thead>\n",
       "  <tbody>\n",
       "    <tr>\n",
       "      <th>0</th>\n",
       "      <td>2021-08-25 09:44:00</td>\n",
       "      <td>Government raises number of Afghans to evacuat...</td>\n",
       "      <td>The Finnish coalition government chaired by Pr...</td>\n",
       "      <td>11</td>\n",
       "      <td>240</td>\n",
       "    </tr>\n",
       "    <tr>\n",
       "      <th>1</th>\n",
       "      <td>2021-08-24 16:11:00</td>\n",
       "      <td>Finland has evacuated more than 200 people fro...</td>\n",
       "      <td>Finland has already facilitated the evacuation...</td>\n",
       "      <td>9</td>\n",
       "      <td>439</td>\n",
       "    </tr>\n",
       "    <tr>\n",
       "      <th>2</th>\n",
       "      <td>2021-08-23 19:26:00</td>\n",
       "      <td>Police to monitor drivers' behaviour near cros...</td>\n",
       "      <td>Following the control campaign conducted two w...</td>\n",
       "      <td>9</td>\n",
       "      <td>355</td>\n",
       "    </tr>\n",
       "  </tbody>\n",
       "</table>\n",
       "</div>"
      ],
      "text/plain": [
       "                Dates                                             Titles  \\\n",
       "0 2021-08-25 09:44:00  Government raises number of Afghans to evacuat...   \n",
       "1 2021-08-24 16:11:00  Finland has evacuated more than 200 people fro...   \n",
       "2 2021-08-23 19:26:00  Police to monitor drivers' behaviour near cros...   \n",
       "\n",
       "                                             Content  word_count_title  \\\n",
       "0  The Finnish coalition government chaired by Pr...                11   \n",
       "1  Finland has already facilitated the evacuation...                 9   \n",
       "2  Following the control campaign conducted two w...                 9   \n",
       "\n",
       "   word_count_Content  \n",
       "0                 240  \n",
       "1                 439  \n",
       "2                 355  "
      ]
     },
     "execution_count": 76,
     "metadata": {},
     "output_type": "execute_result"
    }
   ],
   "source": [
    "df.head(3)"
   ]
  },
  {
   "cell_type": "code",
   "execution_count": 77,
   "id": "cc333ec3",
   "metadata": {
    "ExecuteTime": {
     "end_time": "2021-08-25T11:23:04.054399Z",
     "start_time": "2021-08-25T11:23:03.931676Z"
    }
   },
   "outputs": [],
   "source": [
    "df.set_index('Dates', inplace=True)"
   ]
  },
  {
   "cell_type": "code",
   "execution_count": 78,
   "id": "573c7f3b",
   "metadata": {
    "ExecuteTime": {
     "end_time": "2021-08-25T11:23:04.318486Z",
     "start_time": "2021-08-25T11:23:04.062392Z"
    }
   },
   "outputs": [
    {
     "data": {
      "text/html": [
       "<div>\n",
       "<style scoped>\n",
       "    .dataframe tbody tr th:only-of-type {\n",
       "        vertical-align: middle;\n",
       "    }\n",
       "\n",
       "    .dataframe tbody tr th {\n",
       "        vertical-align: top;\n",
       "    }\n",
       "\n",
       "    .dataframe thead th {\n",
       "        text-align: right;\n",
       "    }\n",
       "</style>\n",
       "<table border=\"1\" class=\"dataframe\">\n",
       "  <thead>\n",
       "    <tr style=\"text-align: right;\">\n",
       "      <th></th>\n",
       "      <th>Titles</th>\n",
       "      <th>Content</th>\n",
       "      <th>word_count_title</th>\n",
       "      <th>word_count_Content</th>\n",
       "    </tr>\n",
       "    <tr>\n",
       "      <th>Dates</th>\n",
       "      <th></th>\n",
       "      <th></th>\n",
       "      <th></th>\n",
       "      <th></th>\n",
       "    </tr>\n",
       "  </thead>\n",
       "  <tbody>\n",
       "    <tr>\n",
       "      <th>2021-08-25 09:44:00</th>\n",
       "      <td>Government raises number of Afghans to evacuat...</td>\n",
       "      <td>The Finnish coalition government chaired by Pr...</td>\n",
       "      <td>11</td>\n",
       "      <td>240</td>\n",
       "    </tr>\n",
       "    <tr>\n",
       "      <th>2021-08-24 16:11:00</th>\n",
       "      <td>Finland has evacuated more than 200 people fro...</td>\n",
       "      <td>Finland has already facilitated the evacuation...</td>\n",
       "      <td>9</td>\n",
       "      <td>439</td>\n",
       "    </tr>\n",
       "    <tr>\n",
       "      <th>2021-08-23 19:26:00</th>\n",
       "      <td>Police to monitor drivers' behaviour near cros...</td>\n",
       "      <td>Following the control campaign conducted two w...</td>\n",
       "      <td>9</td>\n",
       "      <td>355</td>\n",
       "    </tr>\n",
       "  </tbody>\n",
       "</table>\n",
       "</div>"
      ],
      "text/plain": [
       "                                                                Titles  \\\n",
       "Dates                                                                    \n",
       "2021-08-25 09:44:00  Government raises number of Afghans to evacuat...   \n",
       "2021-08-24 16:11:00  Finland has evacuated more than 200 people fro...   \n",
       "2021-08-23 19:26:00  Police to monitor drivers' behaviour near cros...   \n",
       "\n",
       "                                                               Content  \\\n",
       "Dates                                                                    \n",
       "2021-08-25 09:44:00  The Finnish coalition government chaired by Pr...   \n",
       "2021-08-24 16:11:00  Finland has already facilitated the evacuation...   \n",
       "2021-08-23 19:26:00  Following the control campaign conducted two w...   \n",
       "\n",
       "                     word_count_title  word_count_Content  \n",
       "Dates                                                      \n",
       "2021-08-25 09:44:00                11                 240  \n",
       "2021-08-24 16:11:00                 9                 439  \n",
       "2021-08-23 19:26:00                 9                 355  "
      ]
     },
     "execution_count": 78,
     "metadata": {},
     "output_type": "execute_result"
    }
   ],
   "source": [
    "df.head(3)"
   ]
  },
  {
   "cell_type": "code",
   "execution_count": 79,
   "id": "4af2ef77",
   "metadata": {
    "ExecuteTime": {
     "end_time": "2021-08-25T11:23:04.430162Z",
     "start_time": "2021-08-25T11:23:04.321483Z"
    }
   },
   "outputs": [],
   "source": [
    "df['Titles'] = df['Titles'].str.lower()\n",
    "df['Content'] = df['Content'].str.lower()"
   ]
  },
  {
   "cell_type": "markdown",
   "id": "036fa484",
   "metadata": {},
   "source": [
    "Stop words are commonly used words like 'for', 'to', 'on' etc. We will be removing all these stop words from the titles and contents."
   ]
  },
  {
   "cell_type": "code",
   "execution_count": 80,
   "id": "5865de34",
   "metadata": {
    "ExecuteTime": {
     "end_time": "2021-08-25T11:23:04.570193Z",
     "start_time": "2021-08-25T11:23:04.440155Z"
    }
   },
   "outputs": [
    {
     "name": "stdout",
     "output_type": "stream",
     "text": [
      "['i', 'me', 'my', 'myself', 'we', 'our', 'ours', 'ourselves', 'you', \"you're\"]\n"
     ]
    }
   ],
   "source": [
    "stop_words = stopwords.words('english')\n",
    "print(stop_words[:10])"
   ]
  },
  {
   "cell_type": "code",
   "execution_count": 81,
   "id": "24876565",
   "metadata": {
    "ExecuteTime": {
     "end_time": "2021-08-25T11:23:04.710148Z",
     "start_time": "2021-08-25T11:23:04.578187Z"
    }
   },
   "outputs": [
    {
     "data": {
      "text/plain": [
       "179"
      ]
     },
     "execution_count": 81,
     "metadata": {},
     "output_type": "execute_result"
    }
   ],
   "source": [
    "len(stop_words)"
   ]
  },
  {
   "cell_type": "markdown",
   "id": "987d3d03",
   "metadata": {},
   "source": [
    "In this stop_words, some of the words which we do not want to include in this project are not included. For instance, we would like to remove words like 'also', 'would' which are not in the list of stop_words. Lets add them in the list of stop_words."
   ]
  },
  {
   "cell_type": "code",
   "execution_count": 82,
   "id": "7b7a60ba",
   "metadata": {
    "ExecuteTime": {
     "end_time": "2021-08-25T11:23:04.819176Z",
     "start_time": "2021-08-25T11:23:04.713147Z"
    }
   },
   "outputs": [],
   "source": [
    "stop_words = stop_words + ['also','would', 'according']"
   ]
  },
  {
   "cell_type": "code",
   "execution_count": 83,
   "id": "1a72fb22",
   "metadata": {
    "ExecuteTime": {
     "end_time": "2021-08-25T11:23:04.960180Z",
     "start_time": "2021-08-25T11:23:04.823173Z"
    }
   },
   "outputs": [
    {
     "data": {
      "text/plain": [
       "182"
      ]
     },
     "execution_count": 83,
     "metadata": {},
     "output_type": "execute_result"
    }
   ],
   "source": [
    "len(stop_words)"
   ]
  },
  {
   "cell_type": "markdown",
   "id": "2adcc892",
   "metadata": {},
   "source": [
    "We have 182 stopwords which we will remove from our 'Titles' and 'Content' column as we are not interested in these stop words."
   ]
  },
  {
   "cell_type": "markdown",
   "id": "b627ade4",
   "metadata": {},
   "source": [
    "# Data analysis"
   ]
  },
  {
   "cell_type": "code",
   "execution_count": 84,
   "id": "a583e5ab",
   "metadata": {
    "ExecuteTime": {
     "end_time": "2021-08-25T11:23:05.086554Z",
     "start_time": "2021-08-25T11:23:04.963179Z"
    }
   },
   "outputs": [
    {
     "data": {
      "text/html": [
       "<div>\n",
       "<style scoped>\n",
       "    .dataframe tbody tr th:only-of-type {\n",
       "        vertical-align: middle;\n",
       "    }\n",
       "\n",
       "    .dataframe tbody tr th {\n",
       "        vertical-align: top;\n",
       "    }\n",
       "\n",
       "    .dataframe thead th {\n",
       "        text-align: right;\n",
       "    }\n",
       "</style>\n",
       "<table border=\"1\" class=\"dataframe\">\n",
       "  <thead>\n",
       "    <tr style=\"text-align: right;\">\n",
       "      <th></th>\n",
       "      <th>Titles</th>\n",
       "      <th>Content</th>\n",
       "      <th>word_count_title</th>\n",
       "      <th>word_count_Content</th>\n",
       "    </tr>\n",
       "    <tr>\n",
       "      <th>Dates</th>\n",
       "      <th></th>\n",
       "      <th></th>\n",
       "      <th></th>\n",
       "      <th></th>\n",
       "    </tr>\n",
       "  </thead>\n",
       "  <tbody>\n",
       "    <tr>\n",
       "      <th>2021-08-25 09:44:00</th>\n",
       "      <td>government raises number of afghans to evacuat...</td>\n",
       "      <td>the finnish coalition government chaired by pr...</td>\n",
       "      <td>11</td>\n",
       "      <td>240</td>\n",
       "    </tr>\n",
       "    <tr>\n",
       "      <th>2021-08-24 16:11:00</th>\n",
       "      <td>finland has evacuated more than 200 people fro...</td>\n",
       "      <td>finland has already facilitated the evacuation...</td>\n",
       "      <td>9</td>\n",
       "      <td>439</td>\n",
       "    </tr>\n",
       "    <tr>\n",
       "      <th>2021-08-23 19:26:00</th>\n",
       "      <td>police to monitor drivers' behaviour near cros...</td>\n",
       "      <td>following the control campaign conducted two w...</td>\n",
       "      <td>9</td>\n",
       "      <td>355</td>\n",
       "    </tr>\n",
       "  </tbody>\n",
       "</table>\n",
       "</div>"
      ],
      "text/plain": [
       "                                                                Titles  \\\n",
       "Dates                                                                    \n",
       "2021-08-25 09:44:00  government raises number of afghans to evacuat...   \n",
       "2021-08-24 16:11:00  finland has evacuated more than 200 people fro...   \n",
       "2021-08-23 19:26:00  police to monitor drivers' behaviour near cros...   \n",
       "\n",
       "                                                               Content  \\\n",
       "Dates                                                                    \n",
       "2021-08-25 09:44:00  the finnish coalition government chaired by pr...   \n",
       "2021-08-24 16:11:00  finland has already facilitated the evacuation...   \n",
       "2021-08-23 19:26:00  following the control campaign conducted two w...   \n",
       "\n",
       "                     word_count_title  word_count_Content  \n",
       "Dates                                                      \n",
       "2021-08-25 09:44:00                11                 240  \n",
       "2021-08-24 16:11:00                 9                 439  \n",
       "2021-08-23 19:26:00                 9                 355  "
      ]
     },
     "execution_count": 84,
     "metadata": {},
     "output_type": "execute_result"
    }
   ],
   "source": [
    "df.head(3)"
   ]
  },
  {
   "cell_type": "code",
   "execution_count": 85,
   "id": "7b13f8f1",
   "metadata": {
    "ExecuteTime": {
     "end_time": "2021-08-25T11:23:05.227388Z",
     "start_time": "2021-08-25T11:23:05.090552Z"
    },
    "scrolled": true
   },
   "outputs": [
    {
     "name": "stdout",
     "output_type": "stream",
     "text": [
      "<class 'pandas.core.frame.DataFrame'>\n",
      "DatetimeIndex: 600 entries, 2021-08-25 09:44:00 to 2019-10-02 08:47:00\n",
      "Data columns (total 4 columns):\n",
      " #   Column              Non-Null Count  Dtype \n",
      "---  ------              --------------  ----- \n",
      " 0   Titles              600 non-null    object\n",
      " 1   Content             600 non-null    object\n",
      " 2   word_count_title    600 non-null    int64 \n",
      " 3   word_count_Content  600 non-null    int64 \n",
      "dtypes: int64(2), object(2)\n",
      "memory usage: 23.4+ KB\n"
     ]
    }
   ],
   "source": [
    "df.info()"
   ]
  },
  {
   "cell_type": "markdown",
   "id": "1b067809",
   "metadata": {},
   "source": [
    "## Average, Maximum and Mininum words in News Articles"
   ]
  },
  {
   "cell_type": "code",
   "execution_count": 86,
   "id": "61552e98",
   "metadata": {
    "ExecuteTime": {
     "end_time": "2021-08-25T11:23:05.399275Z",
     "start_time": "2021-08-25T11:23:05.230378Z"
    }
   },
   "outputs": [
    {
     "name": "stdout",
     "output_type": "stream",
     "text": [
      "The longest news article consists of : 2906 words\n",
      "The average news article consists of : 310.29 words\n",
      "The shortest news article consists of : 52 words\n"
     ]
    }
   ],
   "source": [
    "print(f\"The longest news article consists of : {df['word_count_Content'].max()} words\")\n",
    "print(f\"The average news article consists of : {round(df['word_count_Content'].mean(),2)} words\")\n",
    "print(f\"The shortest news article consists of : {df['word_count_Content'].min()} words\")\n",
    "\n"
   ]
  },
  {
   "cell_type": "markdown",
   "id": "f7545491",
   "metadata": {
    "ExecuteTime": {
     "end_time": "2021-08-25T11:12:47.864227Z",
     "start_time": "2021-08-25T11:12:47.843239Z"
    }
   },
   "source": [
    "## Average, Maximum and Mininum words in News Title"
   ]
  },
  {
   "cell_type": "code",
   "execution_count": 87,
   "id": "35d07391",
   "metadata": {
    "ExecuteTime": {
     "end_time": "2021-08-25T11:23:05.586466Z",
     "start_time": "2021-08-25T11:23:05.402272Z"
    }
   },
   "outputs": [
    {
     "name": "stdout",
     "output_type": "stream",
     "text": [
      "The longest news title consists of : 15 words\n",
      "The average news title consists of : 9.12 words\n",
      "The shortest news title consists of : 3 words\n"
     ]
    }
   ],
   "source": [
    "print(f\"The longest news title consists of : {df['word_count_title'].max()} words\")\n",
    "print(f\"The average news title consists of : {round(df['word_count_title'].mean(),2)} words\")\n",
    "print(f\"The shortest news title consists of : {df['word_count_title'].min()} words\")"
   ]
  },
  {
   "cell_type": "markdown",
   "id": "e99942a7",
   "metadata": {},
   "source": [
    "## News post by hour"
   ]
  },
  {
   "cell_type": "code",
   "execution_count": 89,
   "id": "3fd3f334",
   "metadata": {
    "ExecuteTime": {
     "end_time": "2021-08-25T11:23:05.866814Z",
     "start_time": "2021-08-25T11:23:05.730755Z"
    }
   },
   "outputs": [],
   "source": [
    "by_hour = df.index.hour.value_counts()"
   ]
  },
  {
   "cell_type": "code",
   "execution_count": 90,
   "id": "4d6315f8",
   "metadata": {
    "ExecuteTime": {
     "end_time": "2021-08-25T11:23:06.116358Z",
     "start_time": "2021-08-25T11:23:05.871811Z"
    }
   },
   "outputs": [
    {
     "data": {
      "application/vnd.plotly.v1+json": {
       "config": {
        "plotlyServerURL": "https://plot.ly"
       },
       "data": [
        {
         "alignmentgroup": "True",
         "hovertemplate": "variable=Dates<br>index=%{x}<br>value=%{y}<br>text=%{text}<extra></extra>",
         "legendgroup": "Dates",
         "marker": {
          "color": "#636efa",
          "pattern": {
           "shape": ""
          }
         },
         "name": "Dates",
         "offsetgroup": "Dates",
         "orientation": "v",
         "showlegend": true,
         "text": [
          "97",
          "55",
          "55",
          "47",
          "45",
          "45",
          "45",
          "43",
          "43",
          "33",
          "30",
          "25",
          "22",
          "8",
          "3",
          "1",
          "1",
          "1",
          "1"
         ],
         "textposition": "auto",
         "type": "bar",
         "x": [
          20,
          14,
          16,
          15,
          11,
          12,
          19,
          13,
          17,
          9,
          8,
          18,
          10,
          21,
          22,
          0,
          5,
          7,
          23
         ],
         "xaxis": "x",
         "y": [
          97,
          55,
          55,
          47,
          45,
          45,
          45,
          43,
          43,
          33,
          30,
          25,
          22,
          8,
          3,
          1,
          1,
          1,
          1
         ],
         "yaxis": "y"
        }
       ],
       "layout": {
        "barmode": "relative",
        "legend": {
         "title": {
          "text": "variable"
         },
         "tracegroupgap": 0
        },
        "showlegend": false,
        "template": {
         "data": {
          "bar": [
           {
            "error_x": {
             "color": "#2a3f5f"
            },
            "error_y": {
             "color": "#2a3f5f"
            },
            "marker": {
             "line": {
              "color": "#E5ECF6",
              "width": 0.5
             },
             "pattern": {
              "fillmode": "overlay",
              "size": 10,
              "solidity": 0.2
             }
            },
            "type": "bar"
           }
          ],
          "barpolar": [
           {
            "marker": {
             "line": {
              "color": "#E5ECF6",
              "width": 0.5
             },
             "pattern": {
              "fillmode": "overlay",
              "size": 10,
              "solidity": 0.2
             }
            },
            "type": "barpolar"
           }
          ],
          "carpet": [
           {
            "aaxis": {
             "endlinecolor": "#2a3f5f",
             "gridcolor": "white",
             "linecolor": "white",
             "minorgridcolor": "white",
             "startlinecolor": "#2a3f5f"
            },
            "baxis": {
             "endlinecolor": "#2a3f5f",
             "gridcolor": "white",
             "linecolor": "white",
             "minorgridcolor": "white",
             "startlinecolor": "#2a3f5f"
            },
            "type": "carpet"
           }
          ],
          "choropleth": [
           {
            "colorbar": {
             "outlinewidth": 0,
             "ticks": ""
            },
            "type": "choropleth"
           }
          ],
          "contour": [
           {
            "colorbar": {
             "outlinewidth": 0,
             "ticks": ""
            },
            "colorscale": [
             [
              0,
              "#0d0887"
             ],
             [
              0.1111111111111111,
              "#46039f"
             ],
             [
              0.2222222222222222,
              "#7201a8"
             ],
             [
              0.3333333333333333,
              "#9c179e"
             ],
             [
              0.4444444444444444,
              "#bd3786"
             ],
             [
              0.5555555555555556,
              "#d8576b"
             ],
             [
              0.6666666666666666,
              "#ed7953"
             ],
             [
              0.7777777777777778,
              "#fb9f3a"
             ],
             [
              0.8888888888888888,
              "#fdca26"
             ],
             [
              1,
              "#f0f921"
             ]
            ],
            "type": "contour"
           }
          ],
          "contourcarpet": [
           {
            "colorbar": {
             "outlinewidth": 0,
             "ticks": ""
            },
            "type": "contourcarpet"
           }
          ],
          "heatmap": [
           {
            "colorbar": {
             "outlinewidth": 0,
             "ticks": ""
            },
            "colorscale": [
             [
              0,
              "#0d0887"
             ],
             [
              0.1111111111111111,
              "#46039f"
             ],
             [
              0.2222222222222222,
              "#7201a8"
             ],
             [
              0.3333333333333333,
              "#9c179e"
             ],
             [
              0.4444444444444444,
              "#bd3786"
             ],
             [
              0.5555555555555556,
              "#d8576b"
             ],
             [
              0.6666666666666666,
              "#ed7953"
             ],
             [
              0.7777777777777778,
              "#fb9f3a"
             ],
             [
              0.8888888888888888,
              "#fdca26"
             ],
             [
              1,
              "#f0f921"
             ]
            ],
            "type": "heatmap"
           }
          ],
          "heatmapgl": [
           {
            "colorbar": {
             "outlinewidth": 0,
             "ticks": ""
            },
            "colorscale": [
             [
              0,
              "#0d0887"
             ],
             [
              0.1111111111111111,
              "#46039f"
             ],
             [
              0.2222222222222222,
              "#7201a8"
             ],
             [
              0.3333333333333333,
              "#9c179e"
             ],
             [
              0.4444444444444444,
              "#bd3786"
             ],
             [
              0.5555555555555556,
              "#d8576b"
             ],
             [
              0.6666666666666666,
              "#ed7953"
             ],
             [
              0.7777777777777778,
              "#fb9f3a"
             ],
             [
              0.8888888888888888,
              "#fdca26"
             ],
             [
              1,
              "#f0f921"
             ]
            ],
            "type": "heatmapgl"
           }
          ],
          "histogram": [
           {
            "marker": {
             "pattern": {
              "fillmode": "overlay",
              "size": 10,
              "solidity": 0.2
             }
            },
            "type": "histogram"
           }
          ],
          "histogram2d": [
           {
            "colorbar": {
             "outlinewidth": 0,
             "ticks": ""
            },
            "colorscale": [
             [
              0,
              "#0d0887"
             ],
             [
              0.1111111111111111,
              "#46039f"
             ],
             [
              0.2222222222222222,
              "#7201a8"
             ],
             [
              0.3333333333333333,
              "#9c179e"
             ],
             [
              0.4444444444444444,
              "#bd3786"
             ],
             [
              0.5555555555555556,
              "#d8576b"
             ],
             [
              0.6666666666666666,
              "#ed7953"
             ],
             [
              0.7777777777777778,
              "#fb9f3a"
             ],
             [
              0.8888888888888888,
              "#fdca26"
             ],
             [
              1,
              "#f0f921"
             ]
            ],
            "type": "histogram2d"
           }
          ],
          "histogram2dcontour": [
           {
            "colorbar": {
             "outlinewidth": 0,
             "ticks": ""
            },
            "colorscale": [
             [
              0,
              "#0d0887"
             ],
             [
              0.1111111111111111,
              "#46039f"
             ],
             [
              0.2222222222222222,
              "#7201a8"
             ],
             [
              0.3333333333333333,
              "#9c179e"
             ],
             [
              0.4444444444444444,
              "#bd3786"
             ],
             [
              0.5555555555555556,
              "#d8576b"
             ],
             [
              0.6666666666666666,
              "#ed7953"
             ],
             [
              0.7777777777777778,
              "#fb9f3a"
             ],
             [
              0.8888888888888888,
              "#fdca26"
             ],
             [
              1,
              "#f0f921"
             ]
            ],
            "type": "histogram2dcontour"
           }
          ],
          "mesh3d": [
           {
            "colorbar": {
             "outlinewidth": 0,
             "ticks": ""
            },
            "type": "mesh3d"
           }
          ],
          "parcoords": [
           {
            "line": {
             "colorbar": {
              "outlinewidth": 0,
              "ticks": ""
             }
            },
            "type": "parcoords"
           }
          ],
          "pie": [
           {
            "automargin": true,
            "type": "pie"
           }
          ],
          "scatter": [
           {
            "marker": {
             "colorbar": {
              "outlinewidth": 0,
              "ticks": ""
             }
            },
            "type": "scatter"
           }
          ],
          "scatter3d": [
           {
            "line": {
             "colorbar": {
              "outlinewidth": 0,
              "ticks": ""
             }
            },
            "marker": {
             "colorbar": {
              "outlinewidth": 0,
              "ticks": ""
             }
            },
            "type": "scatter3d"
           }
          ],
          "scattercarpet": [
           {
            "marker": {
             "colorbar": {
              "outlinewidth": 0,
              "ticks": ""
             }
            },
            "type": "scattercarpet"
           }
          ],
          "scattergeo": [
           {
            "marker": {
             "colorbar": {
              "outlinewidth": 0,
              "ticks": ""
             }
            },
            "type": "scattergeo"
           }
          ],
          "scattergl": [
           {
            "marker": {
             "colorbar": {
              "outlinewidth": 0,
              "ticks": ""
             }
            },
            "type": "scattergl"
           }
          ],
          "scattermapbox": [
           {
            "marker": {
             "colorbar": {
              "outlinewidth": 0,
              "ticks": ""
             }
            },
            "type": "scattermapbox"
           }
          ],
          "scatterpolar": [
           {
            "marker": {
             "colorbar": {
              "outlinewidth": 0,
              "ticks": ""
             }
            },
            "type": "scatterpolar"
           }
          ],
          "scatterpolargl": [
           {
            "marker": {
             "colorbar": {
              "outlinewidth": 0,
              "ticks": ""
             }
            },
            "type": "scatterpolargl"
           }
          ],
          "scatterternary": [
           {
            "marker": {
             "colorbar": {
              "outlinewidth": 0,
              "ticks": ""
             }
            },
            "type": "scatterternary"
           }
          ],
          "surface": [
           {
            "colorbar": {
             "outlinewidth": 0,
             "ticks": ""
            },
            "colorscale": [
             [
              0,
              "#0d0887"
             ],
             [
              0.1111111111111111,
              "#46039f"
             ],
             [
              0.2222222222222222,
              "#7201a8"
             ],
             [
              0.3333333333333333,
              "#9c179e"
             ],
             [
              0.4444444444444444,
              "#bd3786"
             ],
             [
              0.5555555555555556,
              "#d8576b"
             ],
             [
              0.6666666666666666,
              "#ed7953"
             ],
             [
              0.7777777777777778,
              "#fb9f3a"
             ],
             [
              0.8888888888888888,
              "#fdca26"
             ],
             [
              1,
              "#f0f921"
             ]
            ],
            "type": "surface"
           }
          ],
          "table": [
           {
            "cells": {
             "fill": {
              "color": "#EBF0F8"
             },
             "line": {
              "color": "white"
             }
            },
            "header": {
             "fill": {
              "color": "#C8D4E3"
             },
             "line": {
              "color": "white"
             }
            },
            "type": "table"
           }
          ]
         },
         "layout": {
          "annotationdefaults": {
           "arrowcolor": "#2a3f5f",
           "arrowhead": 0,
           "arrowwidth": 1
          },
          "autotypenumbers": "strict",
          "coloraxis": {
           "colorbar": {
            "outlinewidth": 0,
            "ticks": ""
           }
          },
          "colorscale": {
           "diverging": [
            [
             0,
             "#8e0152"
            ],
            [
             0.1,
             "#c51b7d"
            ],
            [
             0.2,
             "#de77ae"
            ],
            [
             0.3,
             "#f1b6da"
            ],
            [
             0.4,
             "#fde0ef"
            ],
            [
             0.5,
             "#f7f7f7"
            ],
            [
             0.6,
             "#e6f5d0"
            ],
            [
             0.7,
             "#b8e186"
            ],
            [
             0.8,
             "#7fbc41"
            ],
            [
             0.9,
             "#4d9221"
            ],
            [
             1,
             "#276419"
            ]
           ],
           "sequential": [
            [
             0,
             "#0d0887"
            ],
            [
             0.1111111111111111,
             "#46039f"
            ],
            [
             0.2222222222222222,
             "#7201a8"
            ],
            [
             0.3333333333333333,
             "#9c179e"
            ],
            [
             0.4444444444444444,
             "#bd3786"
            ],
            [
             0.5555555555555556,
             "#d8576b"
            ],
            [
             0.6666666666666666,
             "#ed7953"
            ],
            [
             0.7777777777777778,
             "#fb9f3a"
            ],
            [
             0.8888888888888888,
             "#fdca26"
            ],
            [
             1,
             "#f0f921"
            ]
           ],
           "sequentialminus": [
            [
             0,
             "#0d0887"
            ],
            [
             0.1111111111111111,
             "#46039f"
            ],
            [
             0.2222222222222222,
             "#7201a8"
            ],
            [
             0.3333333333333333,
             "#9c179e"
            ],
            [
             0.4444444444444444,
             "#bd3786"
            ],
            [
             0.5555555555555556,
             "#d8576b"
            ],
            [
             0.6666666666666666,
             "#ed7953"
            ],
            [
             0.7777777777777778,
             "#fb9f3a"
            ],
            [
             0.8888888888888888,
             "#fdca26"
            ],
            [
             1,
             "#f0f921"
            ]
           ]
          },
          "colorway": [
           "#636efa",
           "#EF553B",
           "#00cc96",
           "#ab63fa",
           "#FFA15A",
           "#19d3f3",
           "#FF6692",
           "#B6E880",
           "#FF97FF",
           "#FECB52"
          ],
          "font": {
           "color": "#2a3f5f"
          },
          "geo": {
           "bgcolor": "white",
           "lakecolor": "white",
           "landcolor": "#E5ECF6",
           "showlakes": true,
           "showland": true,
           "subunitcolor": "white"
          },
          "hoverlabel": {
           "align": "left"
          },
          "hovermode": "closest",
          "mapbox": {
           "style": "light"
          },
          "paper_bgcolor": "white",
          "plot_bgcolor": "#E5ECF6",
          "polar": {
           "angularaxis": {
            "gridcolor": "white",
            "linecolor": "white",
            "ticks": ""
           },
           "bgcolor": "#E5ECF6",
           "radialaxis": {
            "gridcolor": "white",
            "linecolor": "white",
            "ticks": ""
           }
          },
          "scene": {
           "xaxis": {
            "backgroundcolor": "#E5ECF6",
            "gridcolor": "white",
            "gridwidth": 2,
            "linecolor": "white",
            "showbackground": true,
            "ticks": "",
            "zerolinecolor": "white"
           },
           "yaxis": {
            "backgroundcolor": "#E5ECF6",
            "gridcolor": "white",
            "gridwidth": 2,
            "linecolor": "white",
            "showbackground": true,
            "ticks": "",
            "zerolinecolor": "white"
           },
           "zaxis": {
            "backgroundcolor": "#E5ECF6",
            "gridcolor": "white",
            "gridwidth": 2,
            "linecolor": "white",
            "showbackground": true,
            "ticks": "",
            "zerolinecolor": "white"
           }
          },
          "shapedefaults": {
           "line": {
            "color": "#2a3f5f"
           }
          },
          "ternary": {
           "aaxis": {
            "gridcolor": "white",
            "linecolor": "white",
            "ticks": ""
           },
           "baxis": {
            "gridcolor": "white",
            "linecolor": "white",
            "ticks": ""
           },
           "bgcolor": "#E5ECF6",
           "caxis": {
            "gridcolor": "white",
            "linecolor": "white",
            "ticks": ""
           }
          },
          "title": {
           "x": 0.05
          },
          "xaxis": {
           "automargin": true,
           "gridcolor": "white",
           "linecolor": "white",
           "ticks": "",
           "title": {
            "standoff": 15
           },
           "zerolinecolor": "white",
           "zerolinewidth": 2
          },
          "yaxis": {
           "automargin": true,
           "gridcolor": "white",
           "linecolor": "white",
           "ticks": "",
           "title": {
            "standoff": 15
           },
           "zerolinecolor": "white",
           "zerolinewidth": 2
          }
         }
        },
        "title": {
         "text": "News articles posted by Hour",
         "x": 0.5
        },
        "xaxis": {
         "anchor": "y",
         "domain": [
          0,
          1
         ],
         "tickmode": "linear",
         "title": {
          "text": "Hours"
         }
        },
        "yaxis": {
         "anchor": "x",
         "domain": [
          0,
          1
         ],
         "title": {
          "text": "Number of articles"
         }
        }
       }
      },
      "text/html": [
       "<div>                            <div id=\"fa334aa1-3785-4b35-840e-b12b53360245\" class=\"plotly-graph-div\" style=\"height:525px; width:100%;\"></div>            <script type=\"text/javascript\">                require([\"plotly\"], function(Plotly) {                    window.PLOTLYENV=window.PLOTLYENV || {};                                    if (document.getElementById(\"fa334aa1-3785-4b35-840e-b12b53360245\")) {                    Plotly.newPlot(                        \"fa334aa1-3785-4b35-840e-b12b53360245\",                        [{\"alignmentgroup\":\"True\",\"hovertemplate\":\"variable=Dates<br>index=%{x}<br>value=%{y}<br>text=%{text}<extra></extra>\",\"legendgroup\":\"Dates\",\"marker\":{\"color\":\"#636efa\",\"pattern\":{\"shape\":\"\"}},\"name\":\"Dates\",\"offsetgroup\":\"Dates\",\"orientation\":\"v\",\"showlegend\":true,\"text\":[\"97\",\"55\",\"55\",\"47\",\"45\",\"45\",\"45\",\"43\",\"43\",\"33\",\"30\",\"25\",\"22\",\"8\",\"3\",\"1\",\"1\",\"1\",\"1\"],\"textposition\":\"auto\",\"type\":\"bar\",\"x\":[20,14,16,15,11,12,19,13,17,9,8,18,10,21,22,0,5,7,23],\"xaxis\":\"x\",\"y\":[97,55,55,47,45,45,45,43,43,33,30,25,22,8,3,1,1,1,1],\"yaxis\":\"y\"}],                        {\"barmode\":\"relative\",\"legend\":{\"title\":{\"text\":\"variable\"},\"tracegroupgap\":0},\"showlegend\":false,\"template\":{\"data\":{\"bar\":[{\"error_x\":{\"color\":\"#2a3f5f\"},\"error_y\":{\"color\":\"#2a3f5f\"},\"marker\":{\"line\":{\"color\":\"#E5ECF6\",\"width\":0.5},\"pattern\":{\"fillmode\":\"overlay\",\"size\":10,\"solidity\":0.2}},\"type\":\"bar\"}],\"barpolar\":[{\"marker\":{\"line\":{\"color\":\"#E5ECF6\",\"width\":0.5},\"pattern\":{\"fillmode\":\"overlay\",\"size\":10,\"solidity\":0.2}},\"type\":\"barpolar\"}],\"carpet\":[{\"aaxis\":{\"endlinecolor\":\"#2a3f5f\",\"gridcolor\":\"white\",\"linecolor\":\"white\",\"minorgridcolor\":\"white\",\"startlinecolor\":\"#2a3f5f\"},\"baxis\":{\"endlinecolor\":\"#2a3f5f\",\"gridcolor\":\"white\",\"linecolor\":\"white\",\"minorgridcolor\":\"white\",\"startlinecolor\":\"#2a3f5f\"},\"type\":\"carpet\"}],\"choropleth\":[{\"colorbar\":{\"outlinewidth\":0,\"ticks\":\"\"},\"type\":\"choropleth\"}],\"contour\":[{\"colorbar\":{\"outlinewidth\":0,\"ticks\":\"\"},\"colorscale\":[[0.0,\"#0d0887\"],[0.1111111111111111,\"#46039f\"],[0.2222222222222222,\"#7201a8\"],[0.3333333333333333,\"#9c179e\"],[0.4444444444444444,\"#bd3786\"],[0.5555555555555556,\"#d8576b\"],[0.6666666666666666,\"#ed7953\"],[0.7777777777777778,\"#fb9f3a\"],[0.8888888888888888,\"#fdca26\"],[1.0,\"#f0f921\"]],\"type\":\"contour\"}],\"contourcarpet\":[{\"colorbar\":{\"outlinewidth\":0,\"ticks\":\"\"},\"type\":\"contourcarpet\"}],\"heatmap\":[{\"colorbar\":{\"outlinewidth\":0,\"ticks\":\"\"},\"colorscale\":[[0.0,\"#0d0887\"],[0.1111111111111111,\"#46039f\"],[0.2222222222222222,\"#7201a8\"],[0.3333333333333333,\"#9c179e\"],[0.4444444444444444,\"#bd3786\"],[0.5555555555555556,\"#d8576b\"],[0.6666666666666666,\"#ed7953\"],[0.7777777777777778,\"#fb9f3a\"],[0.8888888888888888,\"#fdca26\"],[1.0,\"#f0f921\"]],\"type\":\"heatmap\"}],\"heatmapgl\":[{\"colorbar\":{\"outlinewidth\":0,\"ticks\":\"\"},\"colorscale\":[[0.0,\"#0d0887\"],[0.1111111111111111,\"#46039f\"],[0.2222222222222222,\"#7201a8\"],[0.3333333333333333,\"#9c179e\"],[0.4444444444444444,\"#bd3786\"],[0.5555555555555556,\"#d8576b\"],[0.6666666666666666,\"#ed7953\"],[0.7777777777777778,\"#fb9f3a\"],[0.8888888888888888,\"#fdca26\"],[1.0,\"#f0f921\"]],\"type\":\"heatmapgl\"}],\"histogram\":[{\"marker\":{\"pattern\":{\"fillmode\":\"overlay\",\"size\":10,\"solidity\":0.2}},\"type\":\"histogram\"}],\"histogram2d\":[{\"colorbar\":{\"outlinewidth\":0,\"ticks\":\"\"},\"colorscale\":[[0.0,\"#0d0887\"],[0.1111111111111111,\"#46039f\"],[0.2222222222222222,\"#7201a8\"],[0.3333333333333333,\"#9c179e\"],[0.4444444444444444,\"#bd3786\"],[0.5555555555555556,\"#d8576b\"],[0.6666666666666666,\"#ed7953\"],[0.7777777777777778,\"#fb9f3a\"],[0.8888888888888888,\"#fdca26\"],[1.0,\"#f0f921\"]],\"type\":\"histogram2d\"}],\"histogram2dcontour\":[{\"colorbar\":{\"outlinewidth\":0,\"ticks\":\"\"},\"colorscale\":[[0.0,\"#0d0887\"],[0.1111111111111111,\"#46039f\"],[0.2222222222222222,\"#7201a8\"],[0.3333333333333333,\"#9c179e\"],[0.4444444444444444,\"#bd3786\"],[0.5555555555555556,\"#d8576b\"],[0.6666666666666666,\"#ed7953\"],[0.7777777777777778,\"#fb9f3a\"],[0.8888888888888888,\"#fdca26\"],[1.0,\"#f0f921\"]],\"type\":\"histogram2dcontour\"}],\"mesh3d\":[{\"colorbar\":{\"outlinewidth\":0,\"ticks\":\"\"},\"type\":\"mesh3d\"}],\"parcoords\":[{\"line\":{\"colorbar\":{\"outlinewidth\":0,\"ticks\":\"\"}},\"type\":\"parcoords\"}],\"pie\":[{\"automargin\":true,\"type\":\"pie\"}],\"scatter\":[{\"marker\":{\"colorbar\":{\"outlinewidth\":0,\"ticks\":\"\"}},\"type\":\"scatter\"}],\"scatter3d\":[{\"line\":{\"colorbar\":{\"outlinewidth\":0,\"ticks\":\"\"}},\"marker\":{\"colorbar\":{\"outlinewidth\":0,\"ticks\":\"\"}},\"type\":\"scatter3d\"}],\"scattercarpet\":[{\"marker\":{\"colorbar\":{\"outlinewidth\":0,\"ticks\":\"\"}},\"type\":\"scattercarpet\"}],\"scattergeo\":[{\"marker\":{\"colorbar\":{\"outlinewidth\":0,\"ticks\":\"\"}},\"type\":\"scattergeo\"}],\"scattergl\":[{\"marker\":{\"colorbar\":{\"outlinewidth\":0,\"ticks\":\"\"}},\"type\":\"scattergl\"}],\"scattermapbox\":[{\"marker\":{\"colorbar\":{\"outlinewidth\":0,\"ticks\":\"\"}},\"type\":\"scattermapbox\"}],\"scatterpolar\":[{\"marker\":{\"colorbar\":{\"outlinewidth\":0,\"ticks\":\"\"}},\"type\":\"scatterpolar\"}],\"scatterpolargl\":[{\"marker\":{\"colorbar\":{\"outlinewidth\":0,\"ticks\":\"\"}},\"type\":\"scatterpolargl\"}],\"scatterternary\":[{\"marker\":{\"colorbar\":{\"outlinewidth\":0,\"ticks\":\"\"}},\"type\":\"scatterternary\"}],\"surface\":[{\"colorbar\":{\"outlinewidth\":0,\"ticks\":\"\"},\"colorscale\":[[0.0,\"#0d0887\"],[0.1111111111111111,\"#46039f\"],[0.2222222222222222,\"#7201a8\"],[0.3333333333333333,\"#9c179e\"],[0.4444444444444444,\"#bd3786\"],[0.5555555555555556,\"#d8576b\"],[0.6666666666666666,\"#ed7953\"],[0.7777777777777778,\"#fb9f3a\"],[0.8888888888888888,\"#fdca26\"],[1.0,\"#f0f921\"]],\"type\":\"surface\"}],\"table\":[{\"cells\":{\"fill\":{\"color\":\"#EBF0F8\"},\"line\":{\"color\":\"white\"}},\"header\":{\"fill\":{\"color\":\"#C8D4E3\"},\"line\":{\"color\":\"white\"}},\"type\":\"table\"}]},\"layout\":{\"annotationdefaults\":{\"arrowcolor\":\"#2a3f5f\",\"arrowhead\":0,\"arrowwidth\":1},\"autotypenumbers\":\"strict\",\"coloraxis\":{\"colorbar\":{\"outlinewidth\":0,\"ticks\":\"\"}},\"colorscale\":{\"diverging\":[[0,\"#8e0152\"],[0.1,\"#c51b7d\"],[0.2,\"#de77ae\"],[0.3,\"#f1b6da\"],[0.4,\"#fde0ef\"],[0.5,\"#f7f7f7\"],[0.6,\"#e6f5d0\"],[0.7,\"#b8e186\"],[0.8,\"#7fbc41\"],[0.9,\"#4d9221\"],[1,\"#276419\"]],\"sequential\":[[0.0,\"#0d0887\"],[0.1111111111111111,\"#46039f\"],[0.2222222222222222,\"#7201a8\"],[0.3333333333333333,\"#9c179e\"],[0.4444444444444444,\"#bd3786\"],[0.5555555555555556,\"#d8576b\"],[0.6666666666666666,\"#ed7953\"],[0.7777777777777778,\"#fb9f3a\"],[0.8888888888888888,\"#fdca26\"],[1.0,\"#f0f921\"]],\"sequentialminus\":[[0.0,\"#0d0887\"],[0.1111111111111111,\"#46039f\"],[0.2222222222222222,\"#7201a8\"],[0.3333333333333333,\"#9c179e\"],[0.4444444444444444,\"#bd3786\"],[0.5555555555555556,\"#d8576b\"],[0.6666666666666666,\"#ed7953\"],[0.7777777777777778,\"#fb9f3a\"],[0.8888888888888888,\"#fdca26\"],[1.0,\"#f0f921\"]]},\"colorway\":[\"#636efa\",\"#EF553B\",\"#00cc96\",\"#ab63fa\",\"#FFA15A\",\"#19d3f3\",\"#FF6692\",\"#B6E880\",\"#FF97FF\",\"#FECB52\"],\"font\":{\"color\":\"#2a3f5f\"},\"geo\":{\"bgcolor\":\"white\",\"lakecolor\":\"white\",\"landcolor\":\"#E5ECF6\",\"showlakes\":true,\"showland\":true,\"subunitcolor\":\"white\"},\"hoverlabel\":{\"align\":\"left\"},\"hovermode\":\"closest\",\"mapbox\":{\"style\":\"light\"},\"paper_bgcolor\":\"white\",\"plot_bgcolor\":\"#E5ECF6\",\"polar\":{\"angularaxis\":{\"gridcolor\":\"white\",\"linecolor\":\"white\",\"ticks\":\"\"},\"bgcolor\":\"#E5ECF6\",\"radialaxis\":{\"gridcolor\":\"white\",\"linecolor\":\"white\",\"ticks\":\"\"}},\"scene\":{\"xaxis\":{\"backgroundcolor\":\"#E5ECF6\",\"gridcolor\":\"white\",\"gridwidth\":2,\"linecolor\":\"white\",\"showbackground\":true,\"ticks\":\"\",\"zerolinecolor\":\"white\"},\"yaxis\":{\"backgroundcolor\":\"#E5ECF6\",\"gridcolor\":\"white\",\"gridwidth\":2,\"linecolor\":\"white\",\"showbackground\":true,\"ticks\":\"\",\"zerolinecolor\":\"white\"},\"zaxis\":{\"backgroundcolor\":\"#E5ECF6\",\"gridcolor\":\"white\",\"gridwidth\":2,\"linecolor\":\"white\",\"showbackground\":true,\"ticks\":\"\",\"zerolinecolor\":\"white\"}},\"shapedefaults\":{\"line\":{\"color\":\"#2a3f5f\"}},\"ternary\":{\"aaxis\":{\"gridcolor\":\"white\",\"linecolor\":\"white\",\"ticks\":\"\"},\"baxis\":{\"gridcolor\":\"white\",\"linecolor\":\"white\",\"ticks\":\"\"},\"bgcolor\":\"#E5ECF6\",\"caxis\":{\"gridcolor\":\"white\",\"linecolor\":\"white\",\"ticks\":\"\"}},\"title\":{\"x\":0.05},\"xaxis\":{\"automargin\":true,\"gridcolor\":\"white\",\"linecolor\":\"white\",\"ticks\":\"\",\"title\":{\"standoff\":15},\"zerolinecolor\":\"white\",\"zerolinewidth\":2},\"yaxis\":{\"automargin\":true,\"gridcolor\":\"white\",\"linecolor\":\"white\",\"ticks\":\"\",\"title\":{\"standoff\":15},\"zerolinecolor\":\"white\",\"zerolinewidth\":2}}},\"title\":{\"text\":\"News articles posted by Hour\",\"x\":0.5},\"xaxis\":{\"anchor\":\"y\",\"domain\":[0.0,1.0],\"tickmode\":\"linear\",\"title\":{\"text\":\"Hours\"}},\"yaxis\":{\"anchor\":\"x\",\"domain\":[0.0,1.0],\"title\":{\"text\":\"Number of articles\"}}},                        {\"responsive\": true}                    ).then(function(){\n",
       "                            \n",
       "var gd = document.getElementById('fa334aa1-3785-4b35-840e-b12b53360245');\n",
       "var x = new MutationObserver(function (mutations, observer) {{\n",
       "        var display = window.getComputedStyle(gd).display;\n",
       "        if (!display || display === 'none') {{\n",
       "            console.log([gd, 'removed!']);\n",
       "            Plotly.purge(gd);\n",
       "            observer.disconnect();\n",
       "        }}\n",
       "}});\n",
       "\n",
       "// Listen for the removal of the full notebook cells\n",
       "var notebookContainer = gd.closest('#notebook-container');\n",
       "if (notebookContainer) {{\n",
       "    x.observe(notebookContainer, {childList: true});\n",
       "}}\n",
       "\n",
       "// Listen for the clearing of the current output cell\n",
       "var outputEl = gd.closest('.output');\n",
       "if (outputEl) {{\n",
       "    x.observe(outputEl, {childList: true});\n",
       "}}\n",
       "\n",
       "                        })                };                });            </script>        </div>"
      ]
     },
     "metadata": {},
     "output_type": "display_data"
    }
   ],
   "source": [
    "fig1 = px.bar(data_frame=by_hour, text=by_hour, title='News articles posted by Hour')\n",
    "fig1.update_layout(xaxis_title = 'Hours', yaxis_title = 'Number of articles',showlegend=False, title_x = 0.5, xaxis_tickmode='linear')\n",
    "fig1.show()"
   ]
  },
  {
   "cell_type": "markdown",
   "id": "d2b4a03f",
   "metadata": {},
   "source": [
    "If we see the above figure, we can see that the most number of news are published at 8pm. There are no news publised from 1 am to 4pm."
   ]
  },
  {
   "cell_type": "markdown",
   "id": "b4de4576",
   "metadata": {},
   "source": [
    "## News post by Month"
   ]
  },
  {
   "cell_type": "code",
   "execution_count": 93,
   "id": "ec64704a",
   "metadata": {
    "ExecuteTime": {
     "end_time": "2021-08-25T11:27:01.635192Z",
     "start_time": "2021-08-25T11:27:00.676705Z"
    }
   },
   "outputs": [
    {
     "data": {
      "application/vnd.plotly.v1+json": {
       "config": {
        "plotlyServerURL": "https://plot.ly"
       },
       "data": [
        {
         "alignmentgroup": "True",
         "hovertemplate": "Dates=%{x}<br>value=%{y}<br>text=%{text}<br>color=%{marker.color}<extra></extra>",
         "legendgroup": "",
         "marker": {
          "color": [
           10,
           11,
           12,
           1,
           2,
           3,
           4,
           5,
           6,
           7,
           8,
           9,
           10,
           11,
           12,
           1,
           2,
           3,
           4,
           5,
           6,
           7,
           8
          ],
          "coloraxis": "coloraxis",
          "pattern": {
           "shape": ""
          }
         },
         "name": "",
         "offsetgroup": "",
         "orientation": "v",
         "showlegend": false,
         "text": [
          "36",
          "20",
          "26",
          "27",
          "36",
          "20",
          "35",
          "22",
          "44",
          "26",
          "25",
          "27",
          "28",
          "23",
          "24",
          "16",
          "14",
          "16",
          "26",
          "23",
          "36",
          "25",
          "25"
         ],
         "textposition": "auto",
         "type": "bar",
         "x": [
          "2019-10-01T00:00:00",
          "2019-11-01T00:00:00",
          "2019-12-01T00:00:00",
          "2020-01-01T00:00:00",
          "2020-02-01T00:00:00",
          "2020-03-01T00:00:00",
          "2020-04-01T00:00:00",
          "2020-05-01T00:00:00",
          "2020-06-01T00:00:00",
          "2020-07-01T00:00:00",
          "2020-08-01T00:00:00",
          "2020-09-01T00:00:00",
          "2020-10-01T00:00:00",
          "2020-11-01T00:00:00",
          "2020-12-01T00:00:00",
          "2021-01-01T00:00:00",
          "2021-02-01T00:00:00",
          "2021-03-01T00:00:00",
          "2021-04-01T00:00:00",
          "2021-05-01T00:00:00",
          "2021-06-01T00:00:00",
          "2021-07-01T00:00:00",
          "2021-08-01T00:00:00"
         ],
         "xaxis": "x",
         "y": [
          36,
          20,
          26,
          27,
          36,
          20,
          35,
          22,
          44,
          26,
          25,
          27,
          28,
          23,
          24,
          16,
          14,
          16,
          26,
          23,
          36,
          25,
          25
         ],
         "yaxis": "y"
        }
       ],
       "layout": {
        "barmode": "relative",
        "coloraxis": {
         "colorbar": {
          "title": {
           "text": "color"
          }
         },
         "colorscale": [
          [
           0,
           "#0d0887"
          ],
          [
           0.1111111111111111,
           "#46039f"
          ],
          [
           0.2222222222222222,
           "#7201a8"
          ],
          [
           0.3333333333333333,
           "#9c179e"
          ],
          [
           0.4444444444444444,
           "#bd3786"
          ],
          [
           0.5555555555555556,
           "#d8576b"
          ],
          [
           0.6666666666666666,
           "#ed7953"
          ],
          [
           0.7777777777777778,
           "#fb9f3a"
          ],
          [
           0.8888888888888888,
           "#fdca26"
          ],
          [
           1,
           "#f0f921"
          ]
         ]
        },
        "legend": {
         "tracegroupgap": 0
        },
        "showlegend": false,
        "template": {
         "data": {
          "bar": [
           {
            "error_x": {
             "color": "#2a3f5f"
            },
            "error_y": {
             "color": "#2a3f5f"
            },
            "marker": {
             "line": {
              "color": "#E5ECF6",
              "width": 0.5
             },
             "pattern": {
              "fillmode": "overlay",
              "size": 10,
              "solidity": 0.2
             }
            },
            "type": "bar"
           }
          ],
          "barpolar": [
           {
            "marker": {
             "line": {
              "color": "#E5ECF6",
              "width": 0.5
             },
             "pattern": {
              "fillmode": "overlay",
              "size": 10,
              "solidity": 0.2
             }
            },
            "type": "barpolar"
           }
          ],
          "carpet": [
           {
            "aaxis": {
             "endlinecolor": "#2a3f5f",
             "gridcolor": "white",
             "linecolor": "white",
             "minorgridcolor": "white",
             "startlinecolor": "#2a3f5f"
            },
            "baxis": {
             "endlinecolor": "#2a3f5f",
             "gridcolor": "white",
             "linecolor": "white",
             "minorgridcolor": "white",
             "startlinecolor": "#2a3f5f"
            },
            "type": "carpet"
           }
          ],
          "choropleth": [
           {
            "colorbar": {
             "outlinewidth": 0,
             "ticks": ""
            },
            "type": "choropleth"
           }
          ],
          "contour": [
           {
            "colorbar": {
             "outlinewidth": 0,
             "ticks": ""
            },
            "colorscale": [
             [
              0,
              "#0d0887"
             ],
             [
              0.1111111111111111,
              "#46039f"
             ],
             [
              0.2222222222222222,
              "#7201a8"
             ],
             [
              0.3333333333333333,
              "#9c179e"
             ],
             [
              0.4444444444444444,
              "#bd3786"
             ],
             [
              0.5555555555555556,
              "#d8576b"
             ],
             [
              0.6666666666666666,
              "#ed7953"
             ],
             [
              0.7777777777777778,
              "#fb9f3a"
             ],
             [
              0.8888888888888888,
              "#fdca26"
             ],
             [
              1,
              "#f0f921"
             ]
            ],
            "type": "contour"
           }
          ],
          "contourcarpet": [
           {
            "colorbar": {
             "outlinewidth": 0,
             "ticks": ""
            },
            "type": "contourcarpet"
           }
          ],
          "heatmap": [
           {
            "colorbar": {
             "outlinewidth": 0,
             "ticks": ""
            },
            "colorscale": [
             [
              0,
              "#0d0887"
             ],
             [
              0.1111111111111111,
              "#46039f"
             ],
             [
              0.2222222222222222,
              "#7201a8"
             ],
             [
              0.3333333333333333,
              "#9c179e"
             ],
             [
              0.4444444444444444,
              "#bd3786"
             ],
             [
              0.5555555555555556,
              "#d8576b"
             ],
             [
              0.6666666666666666,
              "#ed7953"
             ],
             [
              0.7777777777777778,
              "#fb9f3a"
             ],
             [
              0.8888888888888888,
              "#fdca26"
             ],
             [
              1,
              "#f0f921"
             ]
            ],
            "type": "heatmap"
           }
          ],
          "heatmapgl": [
           {
            "colorbar": {
             "outlinewidth": 0,
             "ticks": ""
            },
            "colorscale": [
             [
              0,
              "#0d0887"
             ],
             [
              0.1111111111111111,
              "#46039f"
             ],
             [
              0.2222222222222222,
              "#7201a8"
             ],
             [
              0.3333333333333333,
              "#9c179e"
             ],
             [
              0.4444444444444444,
              "#bd3786"
             ],
             [
              0.5555555555555556,
              "#d8576b"
             ],
             [
              0.6666666666666666,
              "#ed7953"
             ],
             [
              0.7777777777777778,
              "#fb9f3a"
             ],
             [
              0.8888888888888888,
              "#fdca26"
             ],
             [
              1,
              "#f0f921"
             ]
            ],
            "type": "heatmapgl"
           }
          ],
          "histogram": [
           {
            "marker": {
             "pattern": {
              "fillmode": "overlay",
              "size": 10,
              "solidity": 0.2
             }
            },
            "type": "histogram"
           }
          ],
          "histogram2d": [
           {
            "colorbar": {
             "outlinewidth": 0,
             "ticks": ""
            },
            "colorscale": [
             [
              0,
              "#0d0887"
             ],
             [
              0.1111111111111111,
              "#46039f"
             ],
             [
              0.2222222222222222,
              "#7201a8"
             ],
             [
              0.3333333333333333,
              "#9c179e"
             ],
             [
              0.4444444444444444,
              "#bd3786"
             ],
             [
              0.5555555555555556,
              "#d8576b"
             ],
             [
              0.6666666666666666,
              "#ed7953"
             ],
             [
              0.7777777777777778,
              "#fb9f3a"
             ],
             [
              0.8888888888888888,
              "#fdca26"
             ],
             [
              1,
              "#f0f921"
             ]
            ],
            "type": "histogram2d"
           }
          ],
          "histogram2dcontour": [
           {
            "colorbar": {
             "outlinewidth": 0,
             "ticks": ""
            },
            "colorscale": [
             [
              0,
              "#0d0887"
             ],
             [
              0.1111111111111111,
              "#46039f"
             ],
             [
              0.2222222222222222,
              "#7201a8"
             ],
             [
              0.3333333333333333,
              "#9c179e"
             ],
             [
              0.4444444444444444,
              "#bd3786"
             ],
             [
              0.5555555555555556,
              "#d8576b"
             ],
             [
              0.6666666666666666,
              "#ed7953"
             ],
             [
              0.7777777777777778,
              "#fb9f3a"
             ],
             [
              0.8888888888888888,
              "#fdca26"
             ],
             [
              1,
              "#f0f921"
             ]
            ],
            "type": "histogram2dcontour"
           }
          ],
          "mesh3d": [
           {
            "colorbar": {
             "outlinewidth": 0,
             "ticks": ""
            },
            "type": "mesh3d"
           }
          ],
          "parcoords": [
           {
            "line": {
             "colorbar": {
              "outlinewidth": 0,
              "ticks": ""
             }
            },
            "type": "parcoords"
           }
          ],
          "pie": [
           {
            "automargin": true,
            "type": "pie"
           }
          ],
          "scatter": [
           {
            "marker": {
             "colorbar": {
              "outlinewidth": 0,
              "ticks": ""
             }
            },
            "type": "scatter"
           }
          ],
          "scatter3d": [
           {
            "line": {
             "colorbar": {
              "outlinewidth": 0,
              "ticks": ""
             }
            },
            "marker": {
             "colorbar": {
              "outlinewidth": 0,
              "ticks": ""
             }
            },
            "type": "scatter3d"
           }
          ],
          "scattercarpet": [
           {
            "marker": {
             "colorbar": {
              "outlinewidth": 0,
              "ticks": ""
             }
            },
            "type": "scattercarpet"
           }
          ],
          "scattergeo": [
           {
            "marker": {
             "colorbar": {
              "outlinewidth": 0,
              "ticks": ""
             }
            },
            "type": "scattergeo"
           }
          ],
          "scattergl": [
           {
            "marker": {
             "colorbar": {
              "outlinewidth": 0,
              "ticks": ""
             }
            },
            "type": "scattergl"
           }
          ],
          "scattermapbox": [
           {
            "marker": {
             "colorbar": {
              "outlinewidth": 0,
              "ticks": ""
             }
            },
            "type": "scattermapbox"
           }
          ],
          "scatterpolar": [
           {
            "marker": {
             "colorbar": {
              "outlinewidth": 0,
              "ticks": ""
             }
            },
            "type": "scatterpolar"
           }
          ],
          "scatterpolargl": [
           {
            "marker": {
             "colorbar": {
              "outlinewidth": 0,
              "ticks": ""
             }
            },
            "type": "scatterpolargl"
           }
          ],
          "scatterternary": [
           {
            "marker": {
             "colorbar": {
              "outlinewidth": 0,
              "ticks": ""
             }
            },
            "type": "scatterternary"
           }
          ],
          "surface": [
           {
            "colorbar": {
             "outlinewidth": 0,
             "ticks": ""
            },
            "colorscale": [
             [
              0,
              "#0d0887"
             ],
             [
              0.1111111111111111,
              "#46039f"
             ],
             [
              0.2222222222222222,
              "#7201a8"
             ],
             [
              0.3333333333333333,
              "#9c179e"
             ],
             [
              0.4444444444444444,
              "#bd3786"
             ],
             [
              0.5555555555555556,
              "#d8576b"
             ],
             [
              0.6666666666666666,
              "#ed7953"
             ],
             [
              0.7777777777777778,
              "#fb9f3a"
             ],
             [
              0.8888888888888888,
              "#fdca26"
             ],
             [
              1,
              "#f0f921"
             ]
            ],
            "type": "surface"
           }
          ],
          "table": [
           {
            "cells": {
             "fill": {
              "color": "#EBF0F8"
             },
             "line": {
              "color": "white"
             }
            },
            "header": {
             "fill": {
              "color": "#C8D4E3"
             },
             "line": {
              "color": "white"
             }
            },
            "type": "table"
           }
          ]
         },
         "layout": {
          "annotationdefaults": {
           "arrowcolor": "#2a3f5f",
           "arrowhead": 0,
           "arrowwidth": 1
          },
          "autotypenumbers": "strict",
          "coloraxis": {
           "colorbar": {
            "outlinewidth": 0,
            "ticks": ""
           }
          },
          "colorscale": {
           "diverging": [
            [
             0,
             "#8e0152"
            ],
            [
             0.1,
             "#c51b7d"
            ],
            [
             0.2,
             "#de77ae"
            ],
            [
             0.3,
             "#f1b6da"
            ],
            [
             0.4,
             "#fde0ef"
            ],
            [
             0.5,
             "#f7f7f7"
            ],
            [
             0.6,
             "#e6f5d0"
            ],
            [
             0.7,
             "#b8e186"
            ],
            [
             0.8,
             "#7fbc41"
            ],
            [
             0.9,
             "#4d9221"
            ],
            [
             1,
             "#276419"
            ]
           ],
           "sequential": [
            [
             0,
             "#0d0887"
            ],
            [
             0.1111111111111111,
             "#46039f"
            ],
            [
             0.2222222222222222,
             "#7201a8"
            ],
            [
             0.3333333333333333,
             "#9c179e"
            ],
            [
             0.4444444444444444,
             "#bd3786"
            ],
            [
             0.5555555555555556,
             "#d8576b"
            ],
            [
             0.6666666666666666,
             "#ed7953"
            ],
            [
             0.7777777777777778,
             "#fb9f3a"
            ],
            [
             0.8888888888888888,
             "#fdca26"
            ],
            [
             1,
             "#f0f921"
            ]
           ],
           "sequentialminus": [
            [
             0,
             "#0d0887"
            ],
            [
             0.1111111111111111,
             "#46039f"
            ],
            [
             0.2222222222222222,
             "#7201a8"
            ],
            [
             0.3333333333333333,
             "#9c179e"
            ],
            [
             0.4444444444444444,
             "#bd3786"
            ],
            [
             0.5555555555555556,
             "#d8576b"
            ],
            [
             0.6666666666666666,
             "#ed7953"
            ],
            [
             0.7777777777777778,
             "#fb9f3a"
            ],
            [
             0.8888888888888888,
             "#fdca26"
            ],
            [
             1,
             "#f0f921"
            ]
           ]
          },
          "colorway": [
           "#636efa",
           "#EF553B",
           "#00cc96",
           "#ab63fa",
           "#FFA15A",
           "#19d3f3",
           "#FF6692",
           "#B6E880",
           "#FF97FF",
           "#FECB52"
          ],
          "font": {
           "color": "#2a3f5f"
          },
          "geo": {
           "bgcolor": "white",
           "lakecolor": "white",
           "landcolor": "#E5ECF6",
           "showlakes": true,
           "showland": true,
           "subunitcolor": "white"
          },
          "hoverlabel": {
           "align": "left"
          },
          "hovermode": "closest",
          "mapbox": {
           "style": "light"
          },
          "paper_bgcolor": "white",
          "plot_bgcolor": "#E5ECF6",
          "polar": {
           "angularaxis": {
            "gridcolor": "white",
            "linecolor": "white",
            "ticks": ""
           },
           "bgcolor": "#E5ECF6",
           "radialaxis": {
            "gridcolor": "white",
            "linecolor": "white",
            "ticks": ""
           }
          },
          "scene": {
           "xaxis": {
            "backgroundcolor": "#E5ECF6",
            "gridcolor": "white",
            "gridwidth": 2,
            "linecolor": "white",
            "showbackground": true,
            "ticks": "",
            "zerolinecolor": "white"
           },
           "yaxis": {
            "backgroundcolor": "#E5ECF6",
            "gridcolor": "white",
            "gridwidth": 2,
            "linecolor": "white",
            "showbackground": true,
            "ticks": "",
            "zerolinecolor": "white"
           },
           "zaxis": {
            "backgroundcolor": "#E5ECF6",
            "gridcolor": "white",
            "gridwidth": 2,
            "linecolor": "white",
            "showbackground": true,
            "ticks": "",
            "zerolinecolor": "white"
           }
          },
          "shapedefaults": {
           "line": {
            "color": "#2a3f5f"
           }
          },
          "ternary": {
           "aaxis": {
            "gridcolor": "white",
            "linecolor": "white",
            "ticks": ""
           },
           "baxis": {
            "gridcolor": "white",
            "linecolor": "white",
            "ticks": ""
           },
           "bgcolor": "#E5ECF6",
           "caxis": {
            "gridcolor": "white",
            "linecolor": "white",
            "ticks": ""
           }
          },
          "title": {
           "x": 0.05
          },
          "xaxis": {
           "automargin": true,
           "gridcolor": "white",
           "linecolor": "white",
           "ticks": "",
           "title": {
            "standoff": 15
           },
           "zerolinecolor": "white",
           "zerolinewidth": 2
          },
          "yaxis": {
           "automargin": true,
           "gridcolor": "white",
           "linecolor": "white",
           "ticks": "",
           "title": {
            "standoff": 15
           },
           "zerolinecolor": "white",
           "zerolinewidth": 2
          }
         }
        },
        "title": {
         "text": "Number of news articles by Month",
         "x": 0.5
        },
        "xaxis": {
         "anchor": "y",
         "domain": [
          0,
          1
         ],
         "title": {
          "text": "Months"
         }
        },
        "yaxis": {
         "anchor": "x",
         "domain": [
          0,
          1
         ],
         "title": {
          "text": "Number of articles"
         }
        }
       }
      },
      "text/html": [
       "<div>                            <div id=\"2ff96c18-6848-43cd-9912-7e041c3746f1\" class=\"plotly-graph-div\" style=\"height:525px; width:100%;\"></div>            <script type=\"text/javascript\">                require([\"plotly\"], function(Plotly) {                    window.PLOTLYENV=window.PLOTLYENV || {};                                    if (document.getElementById(\"2ff96c18-6848-43cd-9912-7e041c3746f1\")) {                    Plotly.newPlot(                        \"2ff96c18-6848-43cd-9912-7e041c3746f1\",                        [{\"alignmentgroup\":\"True\",\"hovertemplate\":\"Dates=%{x}<br>value=%{y}<br>text=%{text}<br>color=%{marker.color}<extra></extra>\",\"legendgroup\":\"\",\"marker\":{\"color\":[10,11,12,1,2,3,4,5,6,7,8,9,10,11,12,1,2,3,4,5,6,7,8],\"coloraxis\":\"coloraxis\",\"pattern\":{\"shape\":\"\"}},\"name\":\"\",\"offsetgroup\":\"\",\"orientation\":\"v\",\"showlegend\":false,\"text\":[\"36\",\"20\",\"26\",\"27\",\"36\",\"20\",\"35\",\"22\",\"44\",\"26\",\"25\",\"27\",\"28\",\"23\",\"24\",\"16\",\"14\",\"16\",\"26\",\"23\",\"36\",\"25\",\"25\"],\"textposition\":\"auto\",\"type\":\"bar\",\"x\":[\"2019-10-01T00:00:00\",\"2019-11-01T00:00:00\",\"2019-12-01T00:00:00\",\"2020-01-01T00:00:00\",\"2020-02-01T00:00:00\",\"2020-03-01T00:00:00\",\"2020-04-01T00:00:00\",\"2020-05-01T00:00:00\",\"2020-06-01T00:00:00\",\"2020-07-01T00:00:00\",\"2020-08-01T00:00:00\",\"2020-09-01T00:00:00\",\"2020-10-01T00:00:00\",\"2020-11-01T00:00:00\",\"2020-12-01T00:00:00\",\"2021-01-01T00:00:00\",\"2021-02-01T00:00:00\",\"2021-03-01T00:00:00\",\"2021-04-01T00:00:00\",\"2021-05-01T00:00:00\",\"2021-06-01T00:00:00\",\"2021-07-01T00:00:00\",\"2021-08-01T00:00:00\"],\"xaxis\":\"x\",\"y\":[36,20,26,27,36,20,35,22,44,26,25,27,28,23,24,16,14,16,26,23,36,25,25],\"yaxis\":\"y\"}],                        {\"barmode\":\"relative\",\"coloraxis\":{\"colorbar\":{\"title\":{\"text\":\"color\"}},\"colorscale\":[[0.0,\"#0d0887\"],[0.1111111111111111,\"#46039f\"],[0.2222222222222222,\"#7201a8\"],[0.3333333333333333,\"#9c179e\"],[0.4444444444444444,\"#bd3786\"],[0.5555555555555556,\"#d8576b\"],[0.6666666666666666,\"#ed7953\"],[0.7777777777777778,\"#fb9f3a\"],[0.8888888888888888,\"#fdca26\"],[1.0,\"#f0f921\"]]},\"legend\":{\"tracegroupgap\":0},\"showlegend\":false,\"template\":{\"data\":{\"bar\":[{\"error_x\":{\"color\":\"#2a3f5f\"},\"error_y\":{\"color\":\"#2a3f5f\"},\"marker\":{\"line\":{\"color\":\"#E5ECF6\",\"width\":0.5},\"pattern\":{\"fillmode\":\"overlay\",\"size\":10,\"solidity\":0.2}},\"type\":\"bar\"}],\"barpolar\":[{\"marker\":{\"line\":{\"color\":\"#E5ECF6\",\"width\":0.5},\"pattern\":{\"fillmode\":\"overlay\",\"size\":10,\"solidity\":0.2}},\"type\":\"barpolar\"}],\"carpet\":[{\"aaxis\":{\"endlinecolor\":\"#2a3f5f\",\"gridcolor\":\"white\",\"linecolor\":\"white\",\"minorgridcolor\":\"white\",\"startlinecolor\":\"#2a3f5f\"},\"baxis\":{\"endlinecolor\":\"#2a3f5f\",\"gridcolor\":\"white\",\"linecolor\":\"white\",\"minorgridcolor\":\"white\",\"startlinecolor\":\"#2a3f5f\"},\"type\":\"carpet\"}],\"choropleth\":[{\"colorbar\":{\"outlinewidth\":0,\"ticks\":\"\"},\"type\":\"choropleth\"}],\"contour\":[{\"colorbar\":{\"outlinewidth\":0,\"ticks\":\"\"},\"colorscale\":[[0.0,\"#0d0887\"],[0.1111111111111111,\"#46039f\"],[0.2222222222222222,\"#7201a8\"],[0.3333333333333333,\"#9c179e\"],[0.4444444444444444,\"#bd3786\"],[0.5555555555555556,\"#d8576b\"],[0.6666666666666666,\"#ed7953\"],[0.7777777777777778,\"#fb9f3a\"],[0.8888888888888888,\"#fdca26\"],[1.0,\"#f0f921\"]],\"type\":\"contour\"}],\"contourcarpet\":[{\"colorbar\":{\"outlinewidth\":0,\"ticks\":\"\"},\"type\":\"contourcarpet\"}],\"heatmap\":[{\"colorbar\":{\"outlinewidth\":0,\"ticks\":\"\"},\"colorscale\":[[0.0,\"#0d0887\"],[0.1111111111111111,\"#46039f\"],[0.2222222222222222,\"#7201a8\"],[0.3333333333333333,\"#9c179e\"],[0.4444444444444444,\"#bd3786\"],[0.5555555555555556,\"#d8576b\"],[0.6666666666666666,\"#ed7953\"],[0.7777777777777778,\"#fb9f3a\"],[0.8888888888888888,\"#fdca26\"],[1.0,\"#f0f921\"]],\"type\":\"heatmap\"}],\"heatmapgl\":[{\"colorbar\":{\"outlinewidth\":0,\"ticks\":\"\"},\"colorscale\":[[0.0,\"#0d0887\"],[0.1111111111111111,\"#46039f\"],[0.2222222222222222,\"#7201a8\"],[0.3333333333333333,\"#9c179e\"],[0.4444444444444444,\"#bd3786\"],[0.5555555555555556,\"#d8576b\"],[0.6666666666666666,\"#ed7953\"],[0.7777777777777778,\"#fb9f3a\"],[0.8888888888888888,\"#fdca26\"],[1.0,\"#f0f921\"]],\"type\":\"heatmapgl\"}],\"histogram\":[{\"marker\":{\"pattern\":{\"fillmode\":\"overlay\",\"size\":10,\"solidity\":0.2}},\"type\":\"histogram\"}],\"histogram2d\":[{\"colorbar\":{\"outlinewidth\":0,\"ticks\":\"\"},\"colorscale\":[[0.0,\"#0d0887\"],[0.1111111111111111,\"#46039f\"],[0.2222222222222222,\"#7201a8\"],[0.3333333333333333,\"#9c179e\"],[0.4444444444444444,\"#bd3786\"],[0.5555555555555556,\"#d8576b\"],[0.6666666666666666,\"#ed7953\"],[0.7777777777777778,\"#fb9f3a\"],[0.8888888888888888,\"#fdca26\"],[1.0,\"#f0f921\"]],\"type\":\"histogram2d\"}],\"histogram2dcontour\":[{\"colorbar\":{\"outlinewidth\":0,\"ticks\":\"\"},\"colorscale\":[[0.0,\"#0d0887\"],[0.1111111111111111,\"#46039f\"],[0.2222222222222222,\"#7201a8\"],[0.3333333333333333,\"#9c179e\"],[0.4444444444444444,\"#bd3786\"],[0.5555555555555556,\"#d8576b\"],[0.6666666666666666,\"#ed7953\"],[0.7777777777777778,\"#fb9f3a\"],[0.8888888888888888,\"#fdca26\"],[1.0,\"#f0f921\"]],\"type\":\"histogram2dcontour\"}],\"mesh3d\":[{\"colorbar\":{\"outlinewidth\":0,\"ticks\":\"\"},\"type\":\"mesh3d\"}],\"parcoords\":[{\"line\":{\"colorbar\":{\"outlinewidth\":0,\"ticks\":\"\"}},\"type\":\"parcoords\"}],\"pie\":[{\"automargin\":true,\"type\":\"pie\"}],\"scatter\":[{\"marker\":{\"colorbar\":{\"outlinewidth\":0,\"ticks\":\"\"}},\"type\":\"scatter\"}],\"scatter3d\":[{\"line\":{\"colorbar\":{\"outlinewidth\":0,\"ticks\":\"\"}},\"marker\":{\"colorbar\":{\"outlinewidth\":0,\"ticks\":\"\"}},\"type\":\"scatter3d\"}],\"scattercarpet\":[{\"marker\":{\"colorbar\":{\"outlinewidth\":0,\"ticks\":\"\"}},\"type\":\"scattercarpet\"}],\"scattergeo\":[{\"marker\":{\"colorbar\":{\"outlinewidth\":0,\"ticks\":\"\"}},\"type\":\"scattergeo\"}],\"scattergl\":[{\"marker\":{\"colorbar\":{\"outlinewidth\":0,\"ticks\":\"\"}},\"type\":\"scattergl\"}],\"scattermapbox\":[{\"marker\":{\"colorbar\":{\"outlinewidth\":0,\"ticks\":\"\"}},\"type\":\"scattermapbox\"}],\"scatterpolar\":[{\"marker\":{\"colorbar\":{\"outlinewidth\":0,\"ticks\":\"\"}},\"type\":\"scatterpolar\"}],\"scatterpolargl\":[{\"marker\":{\"colorbar\":{\"outlinewidth\":0,\"ticks\":\"\"}},\"type\":\"scatterpolargl\"}],\"scatterternary\":[{\"marker\":{\"colorbar\":{\"outlinewidth\":0,\"ticks\":\"\"}},\"type\":\"scatterternary\"}],\"surface\":[{\"colorbar\":{\"outlinewidth\":0,\"ticks\":\"\"},\"colorscale\":[[0.0,\"#0d0887\"],[0.1111111111111111,\"#46039f\"],[0.2222222222222222,\"#7201a8\"],[0.3333333333333333,\"#9c179e\"],[0.4444444444444444,\"#bd3786\"],[0.5555555555555556,\"#d8576b\"],[0.6666666666666666,\"#ed7953\"],[0.7777777777777778,\"#fb9f3a\"],[0.8888888888888888,\"#fdca26\"],[1.0,\"#f0f921\"]],\"type\":\"surface\"}],\"table\":[{\"cells\":{\"fill\":{\"color\":\"#EBF0F8\"},\"line\":{\"color\":\"white\"}},\"header\":{\"fill\":{\"color\":\"#C8D4E3\"},\"line\":{\"color\":\"white\"}},\"type\":\"table\"}]},\"layout\":{\"annotationdefaults\":{\"arrowcolor\":\"#2a3f5f\",\"arrowhead\":0,\"arrowwidth\":1},\"autotypenumbers\":\"strict\",\"coloraxis\":{\"colorbar\":{\"outlinewidth\":0,\"ticks\":\"\"}},\"colorscale\":{\"diverging\":[[0,\"#8e0152\"],[0.1,\"#c51b7d\"],[0.2,\"#de77ae\"],[0.3,\"#f1b6da\"],[0.4,\"#fde0ef\"],[0.5,\"#f7f7f7\"],[0.6,\"#e6f5d0\"],[0.7,\"#b8e186\"],[0.8,\"#7fbc41\"],[0.9,\"#4d9221\"],[1,\"#276419\"]],\"sequential\":[[0.0,\"#0d0887\"],[0.1111111111111111,\"#46039f\"],[0.2222222222222222,\"#7201a8\"],[0.3333333333333333,\"#9c179e\"],[0.4444444444444444,\"#bd3786\"],[0.5555555555555556,\"#d8576b\"],[0.6666666666666666,\"#ed7953\"],[0.7777777777777778,\"#fb9f3a\"],[0.8888888888888888,\"#fdca26\"],[1.0,\"#f0f921\"]],\"sequentialminus\":[[0.0,\"#0d0887\"],[0.1111111111111111,\"#46039f\"],[0.2222222222222222,\"#7201a8\"],[0.3333333333333333,\"#9c179e\"],[0.4444444444444444,\"#bd3786\"],[0.5555555555555556,\"#d8576b\"],[0.6666666666666666,\"#ed7953\"],[0.7777777777777778,\"#fb9f3a\"],[0.8888888888888888,\"#fdca26\"],[1.0,\"#f0f921\"]]},\"colorway\":[\"#636efa\",\"#EF553B\",\"#00cc96\",\"#ab63fa\",\"#FFA15A\",\"#19d3f3\",\"#FF6692\",\"#B6E880\",\"#FF97FF\",\"#FECB52\"],\"font\":{\"color\":\"#2a3f5f\"},\"geo\":{\"bgcolor\":\"white\",\"lakecolor\":\"white\",\"landcolor\":\"#E5ECF6\",\"showlakes\":true,\"showland\":true,\"subunitcolor\":\"white\"},\"hoverlabel\":{\"align\":\"left\"},\"hovermode\":\"closest\",\"mapbox\":{\"style\":\"light\"},\"paper_bgcolor\":\"white\",\"plot_bgcolor\":\"#E5ECF6\",\"polar\":{\"angularaxis\":{\"gridcolor\":\"white\",\"linecolor\":\"white\",\"ticks\":\"\"},\"bgcolor\":\"#E5ECF6\",\"radialaxis\":{\"gridcolor\":\"white\",\"linecolor\":\"white\",\"ticks\":\"\"}},\"scene\":{\"xaxis\":{\"backgroundcolor\":\"#E5ECF6\",\"gridcolor\":\"white\",\"gridwidth\":2,\"linecolor\":\"white\",\"showbackground\":true,\"ticks\":\"\",\"zerolinecolor\":\"white\"},\"yaxis\":{\"backgroundcolor\":\"#E5ECF6\",\"gridcolor\":\"white\",\"gridwidth\":2,\"linecolor\":\"white\",\"showbackground\":true,\"ticks\":\"\",\"zerolinecolor\":\"white\"},\"zaxis\":{\"backgroundcolor\":\"#E5ECF6\",\"gridcolor\":\"white\",\"gridwidth\":2,\"linecolor\":\"white\",\"showbackground\":true,\"ticks\":\"\",\"zerolinecolor\":\"white\"}},\"shapedefaults\":{\"line\":{\"color\":\"#2a3f5f\"}},\"ternary\":{\"aaxis\":{\"gridcolor\":\"white\",\"linecolor\":\"white\",\"ticks\":\"\"},\"baxis\":{\"gridcolor\":\"white\",\"linecolor\":\"white\",\"ticks\":\"\"},\"bgcolor\":\"#E5ECF6\",\"caxis\":{\"gridcolor\":\"white\",\"linecolor\":\"white\",\"ticks\":\"\"}},\"title\":{\"x\":0.05},\"xaxis\":{\"automargin\":true,\"gridcolor\":\"white\",\"linecolor\":\"white\",\"ticks\":\"\",\"title\":{\"standoff\":15},\"zerolinecolor\":\"white\",\"zerolinewidth\":2},\"yaxis\":{\"automargin\":true,\"gridcolor\":\"white\",\"linecolor\":\"white\",\"ticks\":\"\",\"title\":{\"standoff\":15},\"zerolinecolor\":\"white\",\"zerolinewidth\":2}}},\"title\":{\"text\":\"Number of news articles by Month\",\"x\":0.5},\"xaxis\":{\"anchor\":\"y\",\"domain\":[0.0,1.0],\"title\":{\"text\":\"Months\"}},\"yaxis\":{\"anchor\":\"x\",\"domain\":[0.0,1.0],\"title\":{\"text\":\"Number of articles\"}}},                        {\"responsive\": true}                    ).then(function(){\n",
       "                            \n",
       "var gd = document.getElementById('2ff96c18-6848-43cd-9912-7e041c3746f1');\n",
       "var x = new MutationObserver(function (mutations, observer) {{\n",
       "        var display = window.getComputedStyle(gd).display;\n",
       "        if (!display || display === 'none') {{\n",
       "            console.log([gd, 'removed!']);\n",
       "            Plotly.purge(gd);\n",
       "            observer.disconnect();\n",
       "        }}\n",
       "}});\n",
       "\n",
       "// Listen for the removal of the full notebook cells\n",
       "var notebookContainer = gd.closest('#notebook-container');\n",
       "if (notebookContainer) {{\n",
       "    x.observe(notebookContainer, {childList: true});\n",
       "}}\n",
       "\n",
       "// Listen for the clearing of the current output cell\n",
       "var outputEl = gd.closest('.output');\n",
       "if (outputEl) {{\n",
       "    x.observe(outputEl, {childList: true});\n",
       "}}\n",
       "\n",
       "                        })                };                });            </script>        </div>"
      ]
     },
     "metadata": {},
     "output_type": "display_data"
    }
   ],
   "source": [
    "byMonth = df.resample('MS').count().Titles\n",
    "fig2 = px.bar(data_frame=byMonth ,text=byMonth, title='Number of news articles by Month', color=byMonth.index.month)\n",
    "fig2.update_layout(xaxis_title = 'Months', yaxis_title = 'Number of articles',showlegend=False, title_x = 0.5,)\n",
    "fig2.show()"
   ]
  },
  {
   "cell_type": "markdown",
   "id": "5ae7691f",
   "metadata": {},
   "source": [
    "From the above figure, we see that Month of June 2020 (44 news) has the highest frequencies of news. There was only 1 news published in the month of September, 2019."
   ]
  },
  {
   "cell_type": "markdown",
   "id": "1e979424",
   "metadata": {
    "ExecuteTime": {
     "end_time": "2021-08-25T11:27:56.855799Z",
     "start_time": "2021-08-25T11:27:56.840810Z"
    }
   },
   "source": [
    "## Counting number of unique words in titles\n",
    "We will count the number of unique words in news titles and news content."
   ]
  },
  {
   "cell_type": "code",
   "execution_count": 95,
   "id": "62d8a208",
   "metadata": {
    "ExecuteTime": {
     "end_time": "2021-08-25T11:28:13.478033Z",
     "start_time": "2021-08-25T11:28:13.471041Z"
    }
   },
   "outputs": [],
   "source": [
    "all_words = []\n",
    "for i in df.Titles:\n",
    "    all_words.append(i.split())"
   ]
  },
  {
   "cell_type": "code",
   "execution_count": 100,
   "id": "2212cee3",
   "metadata": {
    "ExecuteTime": {
     "end_time": "2021-08-25T11:29:51.526454Z",
     "start_time": "2021-08-25T11:29:51.486479Z"
    }
   },
   "outputs": [],
   "source": [
    "word_counts_titles = list(chain.from_iterable(all_words))\n",
    "filtered_words_titles = [w for w in word_counts_titles if not w in stop_words]\n",
    "counts_titles = Counter(filtered_words_titles)\n",
    "#print(counts_titles)"
   ]
  },
  {
   "cell_type": "markdown",
   "id": "3dc5a500",
   "metadata": {
    "ExecuteTime": {
     "end_time": "2021-08-25T11:30:13.273330Z",
     "start_time": "2021-08-25T11:30:13.261336Z"
    }
   },
   "source": [
    "## Wordcloud plot (news titles)"
   ]
  },
  {
   "cell_type": "code",
   "execution_count": 103,
   "id": "755e32fb",
   "metadata": {
    "ExecuteTime": {
     "end_time": "2021-08-25T11:30:52.046698Z",
     "start_time": "2021-08-25T11:30:49.335518Z"
    }
   },
   "outputs": [
    {
     "data": {
      "image/png": "[encoded data removed]",
      "text/plain": [
       "<Figure size 1008x576 with 1 Axes>"
      ]
     },
     "metadata": {
      "needs_background": "light"
     },
     "output_type": "display_data"
    }
   ],
   "source": [
    "wordcloud_ = WordCloud(width=800, height=400, repeat=False)\n",
    "wordcloud_.generate_from_frequencies(dict(counts_titles))\n",
    "plt.figure(figsize=(14,8))\n",
    "plt.imshow(wordcloud_,)\n",
    "plt.axis('off')\n",
    "plt.title('Most used words in news headlines',fontdict={'fontsize':20});"
   ]
  },
  {
   "cell_type": "markdown",
   "id": "d04210c8",
   "metadata": {},
   "source": [
    "## Top 10 common words in news headlines"
   ]
  },
  {
   "cell_type": "code",
   "execution_count": 104,
   "id": "4c73f5ba",
   "metadata": {
    "ExecuteTime": {
     "end_time": "2021-08-25T11:31:34.464724Z",
     "start_time": "2021-08-25T11:31:33.932656Z"
    }
   },
   "outputs": [
    {
     "data": {
      "application/vnd.plotly.v1+json": {
       "config": {
        "plotlyServerURL": "https://plot.ly"
       },
       "data": [
        {
         "alignmentgroup": "True",
         "hovertemplate": "Words=%{x}<br>Counts=%{text}<extra></extra>",
         "legendgroup": "finland",
         "marker": {
          "color": "#636efa",
          "pattern": {
           "shape": ""
          }
         },
         "name": "finland",
         "offsetgroup": "finland",
         "orientation": "v",
         "showlegend": true,
         "text": [
          "128"
         ],
         "textposition": "auto",
         "type": "bar",
         "x": [
          "finland"
         ],
         "xaxis": "x",
         "y": [
          128
         ],
         "yaxis": "y"
        },
        {
         "alignmentgroup": "True",
         "hovertemplate": "Words=%{x}<br>Counts=%{text}<extra></extra>",
         "legendgroup": "police",
         "marker": {
          "color": "#EF553B",
          "pattern": {
           "shape": ""
          }
         },
         "name": "police",
         "offsetgroup": "police",
         "orientation": "v",
         "showlegend": true,
         "text": [
          "98"
         ],
         "textposition": "auto",
         "type": "bar",
         "x": [
          "police"
         ],
         "xaxis": "x",
         "y": [
          98
         ],
         "yaxis": "y"
        },
        {
         "alignmentgroup": "True",
         "hovertemplate": "Words=%{x}<br>Counts=%{text}<extra></extra>",
         "legendgroup": "finnish",
         "marker": {
          "color": "#00cc96",
          "pattern": {
           "shape": ""
          }
         },
         "name": "finnish",
         "offsetgroup": "finnish",
         "orientation": "v",
         "showlegend": true,
         "text": [
          "58"
         ],
         "textposition": "auto",
         "type": "bar",
         "x": [
          "finnish"
         ],
         "xaxis": "x",
         "y": [
          58
         ],
         "yaxis": "y"
        },
        {
         "alignmentgroup": "True",
         "hovertemplate": "Words=%{x}<br>Counts=%{text}<extra></extra>",
         "legendgroup": "minister",
         "marker": {
          "color": "#ab63fa",
          "pattern": {
           "shape": ""
          }
         },
         "name": "minister",
         "offsetgroup": "minister",
         "orientation": "v",
         "showlegend": true,
         "text": [
          "52"
         ],
         "textposition": "auto",
         "type": "bar",
         "x": [
          "minister"
         ],
         "xaxis": "x",
         "y": [
          52
         ],
         "yaxis": "y"
        },
        {
         "alignmentgroup": "True",
         "hovertemplate": "Words=%{x}<br>Counts=%{text}<extra></extra>",
         "legendgroup": "helsinki",
         "marker": {
          "color": "#FFA15A",
          "pattern": {
           "shape": ""
          }
         },
         "name": "helsinki",
         "offsetgroup": "helsinki",
         "orientation": "v",
         "showlegend": true,
         "text": [
          "48"
         ],
         "textposition": "auto",
         "type": "bar",
         "x": [
          "helsinki"
         ],
         "xaxis": "x",
         "y": [
          48
         ],
         "yaxis": "y"
        },
        {
         "alignmentgroup": "True",
         "hovertemplate": "Words=%{x}<br>Counts=%{text}<extra></extra>",
         "legendgroup": "marin",
         "marker": {
          "color": "#19d3f3",
          "pattern": {
           "shape": ""
          }
         },
         "name": "marin",
         "offsetgroup": "marin",
         "orientation": "v",
         "showlegend": true,
         "text": [
          "41"
         ],
         "textposition": "auto",
         "type": "bar",
         "x": [
          "marin"
         ],
         "xaxis": "x",
         "y": [
          41
         ],
         "yaxis": "y"
        },
        {
         "alignmentgroup": "True",
         "hovertemplate": "Words=%{x}<br>Counts=%{text}<extra></extra>",
         "legendgroup": "government",
         "marker": {
          "color": "#FF6692",
          "pattern": {
           "shape": ""
          }
         },
         "name": "government",
         "offsetgroup": "government",
         "orientation": "v",
         "showlegend": true,
         "text": [
          "33"
         ],
         "textposition": "auto",
         "type": "bar",
         "x": [
          "government"
         ],
         "xaxis": "x",
         "y": [
          33
         ],
         "yaxis": "y"
        },
        {
         "alignmentgroup": "True",
         "hovertemplate": "Words=%{x}<br>Counts=%{text}<extra></extra>",
         "legendgroup": "prime",
         "marker": {
          "color": "#B6E880",
          "pattern": {
           "shape": ""
          }
         },
         "name": "prime",
         "offsetgroup": "prime",
         "orientation": "v",
         "showlegend": true,
         "text": [
          "26"
         ],
         "textposition": "auto",
         "type": "bar",
         "x": [
          "prime"
         ],
         "xaxis": "x",
         "y": [
          26
         ],
         "yaxis": "y"
        },
        {
         "alignmentgroup": "True",
         "hovertemplate": "Words=%{x}<br>Counts=%{text}<extra></extra>",
         "legendgroup": "woman",
         "marker": {
          "color": "#FF97FF",
          "pattern": {
           "shape": ""
          }
         },
         "name": "woman",
         "offsetgroup": "woman",
         "orientation": "v",
         "showlegend": true,
         "text": [
          "25"
         ],
         "textposition": "auto",
         "type": "bar",
         "x": [
          "woman"
         ],
         "xaxis": "x",
         "y": [
          25
         ],
         "yaxis": "y"
        },
        {
         "alignmentgroup": "True",
         "hovertemplate": "Words=%{x}<br>Counts=%{text}<extra></extra>",
         "legendgroup": "missing",
         "marker": {
          "color": "#FECB52",
          "pattern": {
           "shape": ""
          }
         },
         "name": "missing",
         "offsetgroup": "missing",
         "orientation": "v",
         "showlegend": true,
         "text": [
          "25"
         ],
         "textposition": "auto",
         "type": "bar",
         "x": [
          "missing"
         ],
         "xaxis": "x",
         "y": [
          25
         ],
         "yaxis": "y"
        }
       ],
       "layout": {
        "barmode": "relative",
        "legend": {
         "title": {
          "text": "Words"
         },
         "tracegroupgap": 0
        },
        "margin": {
         "t": 60
        },
        "showlegend": false,
        "template": {
         "data": {
          "bar": [
           {
            "error_x": {
             "color": "#2a3f5f"
            },
            "error_y": {
             "color": "#2a3f5f"
            },
            "marker": {
             "line": {
              "color": "#E5ECF6",
              "width": 0.5
             },
             "pattern": {
              "fillmode": "overlay",
              "size": 10,
              "solidity": 0.2
             }
            },
            "type": "bar"
           }
          ],
          "barpolar": [
           {
            "marker": {
             "line": {
              "color": "#E5ECF6",
              "width": 0.5
             },
             "pattern": {
              "fillmode": "overlay",
              "size": 10,
              "solidity": 0.2
             }
            },
            "type": "barpolar"
           }
          ],
          "carpet": [
           {
            "aaxis": {
             "endlinecolor": "#2a3f5f",
             "gridcolor": "white",
             "linecolor": "white",
             "minorgridcolor": "white",
             "startlinecolor": "#2a3f5f"
            },
            "baxis": {
             "endlinecolor": "#2a3f5f",
             "gridcolor": "white",
             "linecolor": "white",
             "minorgridcolor": "white",
             "startlinecolor": "#2a3f5f"
            },
            "type": "carpet"
           }
          ],
          "choropleth": [
           {
            "colorbar": {
             "outlinewidth": 0,
             "ticks": ""
            },
            "type": "choropleth"
           }
          ],
          "contour": [
           {
            "colorbar": {
             "outlinewidth": 0,
             "ticks": ""
            },
            "colorscale": [
             [
              0,
              "#0d0887"
             ],
             [
              0.1111111111111111,
              "#46039f"
             ],
             [
              0.2222222222222222,
              "#7201a8"
             ],
             [
              0.3333333333333333,
              "#9c179e"
             ],
             [
              0.4444444444444444,
              "#bd3786"
             ],
             [
              0.5555555555555556,
              "#d8576b"
             ],
             [
              0.6666666666666666,
              "#ed7953"
             ],
             [
              0.7777777777777778,
              "#fb9f3a"
             ],
             [
              0.8888888888888888,
              "#fdca26"
             ],
             [
              1,
              "#f0f921"
             ]
            ],
            "type": "contour"
           }
          ],
          "contourcarpet": [
           {
            "colorbar": {
             "outlinewidth": 0,
             "ticks": ""
            },
            "type": "contourcarpet"
           }
          ],
          "heatmap": [
           {
            "colorbar": {
             "outlinewidth": 0,
             "ticks": ""
            },
            "colorscale": [
             [
              0,
              "#0d0887"
             ],
             [
              0.1111111111111111,
              "#46039f"
             ],
             [
              0.2222222222222222,
              "#7201a8"
             ],
             [
              0.3333333333333333,
              "#9c179e"
             ],
             [
              0.4444444444444444,
              "#bd3786"
             ],
             [
              0.5555555555555556,
              "#d8576b"
             ],
             [
              0.6666666666666666,
              "#ed7953"
             ],
             [
              0.7777777777777778,
              "#fb9f3a"
             ],
             [
              0.8888888888888888,
              "#fdca26"
             ],
             [
              1,
              "#f0f921"
             ]
            ],
            "type": "heatmap"
           }
          ],
          "heatmapgl": [
           {
            "colorbar": {
             "outlinewidth": 0,
             "ticks": ""
            },
            "colorscale": [
             [
              0,
              "#0d0887"
             ],
             [
              0.1111111111111111,
              "#46039f"
             ],
             [
              0.2222222222222222,
              "#7201a8"
             ],
             [
              0.3333333333333333,
              "#9c179e"
             ],
             [
              0.4444444444444444,
              "#bd3786"
             ],
             [
              0.5555555555555556,
              "#d8576b"
             ],
             [
              0.6666666666666666,
              "#ed7953"
             ],
             [
              0.7777777777777778,
              "#fb9f3a"
             ],
             [
              0.8888888888888888,
              "#fdca26"
             ],
             [
              1,
              "#f0f921"
             ]
            ],
            "type": "heatmapgl"
           }
          ],
          "histogram": [
           {
            "marker": {
             "pattern": {
              "fillmode": "overlay",
              "size": 10,
              "solidity": 0.2
             }
            },
            "type": "histogram"
           }
          ],
          "histogram2d": [
           {
            "colorbar": {
             "outlinewidth": 0,
             "ticks": ""
            },
            "colorscale": [
             [
              0,
              "#0d0887"
             ],
             [
              0.1111111111111111,
              "#46039f"
             ],
             [
              0.2222222222222222,
              "#7201a8"
             ],
             [
              0.3333333333333333,
              "#9c179e"
             ],
             [
              0.4444444444444444,
              "#bd3786"
             ],
             [
              0.5555555555555556,
              "#d8576b"
             ],
             [
              0.6666666666666666,
              "#ed7953"
             ],
             [
              0.7777777777777778,
              "#fb9f3a"
             ],
             [
              0.8888888888888888,
              "#fdca26"
             ],
             [
              1,
              "#f0f921"
             ]
            ],
            "type": "histogram2d"
           }
          ],
          "histogram2dcontour": [
           {
            "colorbar": {
             "outlinewidth": 0,
             "ticks": ""
            },
            "colorscale": [
             [
              0,
              "#0d0887"
             ],
             [
              0.1111111111111111,
              "#46039f"
             ],
             [
              0.2222222222222222,
              "#7201a8"
             ],
             [
              0.3333333333333333,
              "#9c179e"
             ],
             [
              0.4444444444444444,
              "#bd3786"
             ],
             [
              0.5555555555555556,
              "#d8576b"
             ],
             [
              0.6666666666666666,
              "#ed7953"
             ],
             [
              0.7777777777777778,
              "#fb9f3a"
             ],
             [
              0.8888888888888888,
              "#fdca26"
             ],
             [
              1,
              "#f0f921"
             ]
            ],
            "type": "histogram2dcontour"
           }
          ],
          "mesh3d": [
           {
            "colorbar": {
             "outlinewidth": 0,
             "ticks": ""
            },
            "type": "mesh3d"
           }
          ],
          "parcoords": [
           {
            "line": {
             "colorbar": {
              "outlinewidth": 0,
              "ticks": ""
             }
            },
            "type": "parcoords"
           }
          ],
          "pie": [
           {
            "automargin": true,
            "type": "pie"
           }
          ],
          "scatter": [
           {
            "marker": {
             "colorbar": {
              "outlinewidth": 0,
              "ticks": ""
             }
            },
            "type": "scatter"
           }
          ],
          "scatter3d": [
           {
            "line": {
             "colorbar": {
              "outlinewidth": 0,
              "ticks": ""
             }
            },
            "marker": {
             "colorbar": {
              "outlinewidth": 0,
              "ticks": ""
             }
            },
            "type": "scatter3d"
           }
          ],
          "scattercarpet": [
           {
            "marker": {
             "colorbar": {
              "outlinewidth": 0,
              "ticks": ""
             }
            },
            "type": "scattercarpet"
           }
          ],
          "scattergeo": [
           {
            "marker": {
             "colorbar": {
              "outlinewidth": 0,
              "ticks": ""
             }
            },
            "type": "scattergeo"
           }
          ],
          "scattergl": [
           {
            "marker": {
             "colorbar": {
              "outlinewidth": 0,
              "ticks": ""
             }
            },
            "type": "scattergl"
           }
          ],
          "scattermapbox": [
           {
            "marker": {
             "colorbar": {
              "outlinewidth": 0,
              "ticks": ""
             }
            },
            "type": "scattermapbox"
           }
          ],
          "scatterpolar": [
           {
            "marker": {
             "colorbar": {
              "outlinewidth": 0,
              "ticks": ""
             }
            },
            "type": "scatterpolar"
           }
          ],
          "scatterpolargl": [
           {
            "marker": {
             "colorbar": {
              "outlinewidth": 0,
              "ticks": ""
             }
            },
            "type": "scatterpolargl"
           }
          ],
          "scatterternary": [
           {
            "marker": {
             "colorbar": {
              "outlinewidth": 0,
              "ticks": ""
             }
            },
            "type": "scatterternary"
           }
          ],
          "surface": [
           {
            "colorbar": {
             "outlinewidth": 0,
             "ticks": ""
            },
            "colorscale": [
             [
              0,
              "#0d0887"
             ],
             [
              0.1111111111111111,
              "#46039f"
             ],
             [
              0.2222222222222222,
              "#7201a8"
             ],
             [
              0.3333333333333333,
              "#9c179e"
             ],
             [
              0.4444444444444444,
              "#bd3786"
             ],
             [
              0.5555555555555556,
              "#d8576b"
             ],
             [
              0.6666666666666666,
              "#ed7953"
             ],
             [
              0.7777777777777778,
              "#fb9f3a"
             ],
             [
              0.8888888888888888,
              "#fdca26"
             ],
             [
              1,
              "#f0f921"
             ]
            ],
            "type": "surface"
           }
          ],
          "table": [
           {
            "cells": {
             "fill": {
              "color": "#EBF0F8"
             },
             "line": {
              "color": "white"
             }
            },
            "header": {
             "fill": {
              "color": "#C8D4E3"
             },
             "line": {
              "color": "white"
             }
            },
            "type": "table"
           }
          ]
         },
         "layout": {
          "annotationdefaults": {
           "arrowcolor": "#2a3f5f",
           "arrowhead": 0,
           "arrowwidth": 1
          },
          "autotypenumbers": "strict",
          "coloraxis": {
           "colorbar": {
            "outlinewidth": 0,
            "ticks": ""
           }
          },
          "colorscale": {
           "diverging": [
            [
             0,
             "#8e0152"
            ],
            [
             0.1,
             "#c51b7d"
            ],
            [
             0.2,
             "#de77ae"
            ],
            [
             0.3,
             "#f1b6da"
            ],
            [
             0.4,
             "#fde0ef"
            ],
            [
             0.5,
             "#f7f7f7"
            ],
            [
             0.6,
             "#e6f5d0"
            ],
            [
             0.7,
             "#b8e186"
            ],
            [
             0.8,
             "#7fbc41"
            ],
            [
             0.9,
             "#4d9221"
            ],
            [
             1,
             "#276419"
            ]
           ],
           "sequential": [
            [
             0,
             "#0d0887"
            ],
            [
             0.1111111111111111,
             "#46039f"
            ],
            [
             0.2222222222222222,
             "#7201a8"
            ],
            [
             0.3333333333333333,
             "#9c179e"
            ],
            [
             0.4444444444444444,
             "#bd3786"
            ],
            [
             0.5555555555555556,
             "#d8576b"
            ],
            [
             0.6666666666666666,
             "#ed7953"
            ],
            [
             0.7777777777777778,
             "#fb9f3a"
            ],
            [
             0.8888888888888888,
             "#fdca26"
            ],
            [
             1,
             "#f0f921"
            ]
           ],
           "sequentialminus": [
            [
             0,
             "#0d0887"
            ],
            [
             0.1111111111111111,
             "#46039f"
            ],
            [
             0.2222222222222222,
             "#7201a8"
            ],
            [
             0.3333333333333333,
             "#9c179e"
            ],
            [
             0.4444444444444444,
             "#bd3786"
            ],
            [
             0.5555555555555556,
             "#d8576b"
            ],
            [
             0.6666666666666666,
             "#ed7953"
            ],
            [
             0.7777777777777778,
             "#fb9f3a"
            ],
            [
             0.8888888888888888,
             "#fdca26"
            ],
            [
             1,
             "#f0f921"
            ]
           ]
          },
          "colorway": [
           "#636efa",
           "#EF553B",
           "#00cc96",
           "#ab63fa",
           "#FFA15A",
           "#19d3f3",
           "#FF6692",
           "#B6E880",
           "#FF97FF",
           "#FECB52"
          ],
          "font": {
           "color": "#2a3f5f"
          },
          "geo": {
           "bgcolor": "white",
           "lakecolor": "white",
           "landcolor": "#E5ECF6",
           "showlakes": true,
           "showland": true,
           "subunitcolor": "white"
          },
          "hoverlabel": {
           "align": "left"
          },
          "hovermode": "closest",
          "mapbox": {
           "style": "light"
          },
          "paper_bgcolor": "white",
          "plot_bgcolor": "#E5ECF6",
          "polar": {
           "angularaxis": {
            "gridcolor": "white",
            "linecolor": "white",
            "ticks": ""
           },
           "bgcolor": "#E5ECF6",
           "radialaxis": {
            "gridcolor": "white",
            "linecolor": "white",
            "ticks": ""
           }
          },
          "scene": {
           "xaxis": {
            "backgroundcolor": "#E5ECF6",
            "gridcolor": "white",
            "gridwidth": 2,
            "linecolor": "white",
            "showbackground": true,
            "ticks": "",
            "zerolinecolor": "white"
           },
           "yaxis": {
            "backgroundcolor": "#E5ECF6",
            "gridcolor": "white",
            "gridwidth": 2,
            "linecolor": "white",
            "showbackground": true,
            "ticks": "",
            "zerolinecolor": "white"
           },
           "zaxis": {
            "backgroundcolor": "#E5ECF6",
            "gridcolor": "white",
            "gridwidth": 2,
            "linecolor": "white",
            "showbackground": true,
            "ticks": "",
            "zerolinecolor": "white"
           }
          },
          "shapedefaults": {
           "line": {
            "color": "#2a3f5f"
           }
          },
          "ternary": {
           "aaxis": {
            "gridcolor": "white",
            "linecolor": "white",
            "ticks": ""
           },
           "baxis": {
            "gridcolor": "white",
            "linecolor": "white",
            "ticks": ""
           },
           "bgcolor": "#E5ECF6",
           "caxis": {
            "gridcolor": "white",
            "linecolor": "white",
            "ticks": ""
           }
          },
          "title": {
           "x": 0.05
          },
          "xaxis": {
           "automargin": true,
           "gridcolor": "white",
           "linecolor": "white",
           "ticks": "",
           "title": {
            "standoff": 15
           },
           "zerolinecolor": "white",
           "zerolinewidth": 2
          },
          "yaxis": {
           "automargin": true,
           "gridcolor": "white",
           "linecolor": "white",
           "ticks": "",
           "title": {
            "standoff": 15
           },
           "zerolinecolor": "white",
           "zerolinewidth": 2
          }
         }
        },
        "title": {
         "text": "Top 10 common words in news titles",
         "x": 0.5
        },
        "xaxis": {
         "anchor": "y",
         "categoryarray": [
          "finland",
          "police",
          "finnish",
          "minister",
          "helsinki",
          "marin",
          "government",
          "prime",
          "woman",
          "missing"
         ],
         "categoryorder": "array",
         "domain": [
          0,
          1
         ],
         "title": {
          "text": "Words"
         }
        },
        "yaxis": {
         "anchor": "x",
         "domain": [
          0,
          1
         ],
         "title": {
          "text": "Counts"
         }
        }
       }
      },
      "text/html": [
       "<div>                            <div id=\"31f67a5e-718d-490f-af22-c332b5fde647\" class=\"plotly-graph-div\" style=\"height:525px; width:100%;\"></div>            <script type=\"text/javascript\">                require([\"plotly\"], function(Plotly) {                    window.PLOTLYENV=window.PLOTLYENV || {};                                    if (document.getElementById(\"31f67a5e-718d-490f-af22-c332b5fde647\")) {                    Plotly.newPlot(                        \"31f67a5e-718d-490f-af22-c332b5fde647\",                        [{\"alignmentgroup\":\"True\",\"hovertemplate\":\"Words=%{x}<br>Counts=%{text}<extra></extra>\",\"legendgroup\":\"finland\",\"marker\":{\"color\":\"#636efa\",\"pattern\":{\"shape\":\"\"}},\"name\":\"finland\",\"offsetgroup\":\"finland\",\"orientation\":\"v\",\"showlegend\":true,\"text\":[\"128\"],\"textposition\":\"auto\",\"type\":\"bar\",\"x\":[\"finland\"],\"xaxis\":\"x\",\"y\":[128],\"yaxis\":\"y\"},{\"alignmentgroup\":\"True\",\"hovertemplate\":\"Words=%{x}<br>Counts=%{text}<extra></extra>\",\"legendgroup\":\"police\",\"marker\":{\"color\":\"#EF553B\",\"pattern\":{\"shape\":\"\"}},\"name\":\"police\",\"offsetgroup\":\"police\",\"orientation\":\"v\",\"showlegend\":true,\"text\":[\"98\"],\"textposition\":\"auto\",\"type\":\"bar\",\"x\":[\"police\"],\"xaxis\":\"x\",\"y\":[98],\"yaxis\":\"y\"},{\"alignmentgroup\":\"True\",\"hovertemplate\":\"Words=%{x}<br>Counts=%{text}<extra></extra>\",\"legendgroup\":\"finnish\",\"marker\":{\"color\":\"#00cc96\",\"pattern\":{\"shape\":\"\"}},\"name\":\"finnish\",\"offsetgroup\":\"finnish\",\"orientation\":\"v\",\"showlegend\":true,\"text\":[\"58\"],\"textposition\":\"auto\",\"type\":\"bar\",\"x\":[\"finnish\"],\"xaxis\":\"x\",\"y\":[58],\"yaxis\":\"y\"},{\"alignmentgroup\":\"True\",\"hovertemplate\":\"Words=%{x}<br>Counts=%{text}<extra></extra>\",\"legendgroup\":\"minister\",\"marker\":{\"color\":\"#ab63fa\",\"pattern\":{\"shape\":\"\"}},\"name\":\"minister\",\"offsetgroup\":\"minister\",\"orientation\":\"v\",\"showlegend\":true,\"text\":[\"52\"],\"textposition\":\"auto\",\"type\":\"bar\",\"x\":[\"minister\"],\"xaxis\":\"x\",\"y\":[52],\"yaxis\":\"y\"},{\"alignmentgroup\":\"True\",\"hovertemplate\":\"Words=%{x}<br>Counts=%{text}<extra></extra>\",\"legendgroup\":\"helsinki\",\"marker\":{\"color\":\"#FFA15A\",\"pattern\":{\"shape\":\"\"}},\"name\":\"helsinki\",\"offsetgroup\":\"helsinki\",\"orientation\":\"v\",\"showlegend\":true,\"text\":[\"48\"],\"textposition\":\"auto\",\"type\":\"bar\",\"x\":[\"helsinki\"],\"xaxis\":\"x\",\"y\":[48],\"yaxis\":\"y\"},{\"alignmentgroup\":\"True\",\"hovertemplate\":\"Words=%{x}<br>Counts=%{text}<extra></extra>\",\"legendgroup\":\"marin\",\"marker\":{\"color\":\"#19d3f3\",\"pattern\":{\"shape\":\"\"}},\"name\":\"marin\",\"offsetgroup\":\"marin\",\"orientation\":\"v\",\"showlegend\":true,\"text\":[\"41\"],\"textposition\":\"auto\",\"type\":\"bar\",\"x\":[\"marin\"],\"xaxis\":\"x\",\"y\":[41],\"yaxis\":\"y\"},{\"alignmentgroup\":\"True\",\"hovertemplate\":\"Words=%{x}<br>Counts=%{text}<extra></extra>\",\"legendgroup\":\"government\",\"marker\":{\"color\":\"#FF6692\",\"pattern\":{\"shape\":\"\"}},\"name\":\"government\",\"offsetgroup\":\"government\",\"orientation\":\"v\",\"showlegend\":true,\"text\":[\"33\"],\"textposition\":\"auto\",\"type\":\"bar\",\"x\":[\"government\"],\"xaxis\":\"x\",\"y\":[33],\"yaxis\":\"y\"},{\"alignmentgroup\":\"True\",\"hovertemplate\":\"Words=%{x}<br>Counts=%{text}<extra></extra>\",\"legendgroup\":\"prime\",\"marker\":{\"color\":\"#B6E880\",\"pattern\":{\"shape\":\"\"}},\"name\":\"prime\",\"offsetgroup\":\"prime\",\"orientation\":\"v\",\"showlegend\":true,\"text\":[\"26\"],\"textposition\":\"auto\",\"type\":\"bar\",\"x\":[\"prime\"],\"xaxis\":\"x\",\"y\":[26],\"yaxis\":\"y\"},{\"alignmentgroup\":\"True\",\"hovertemplate\":\"Words=%{x}<br>Counts=%{text}<extra></extra>\",\"legendgroup\":\"woman\",\"marker\":{\"color\":\"#FF97FF\",\"pattern\":{\"shape\":\"\"}},\"name\":\"woman\",\"offsetgroup\":\"woman\",\"orientation\":\"v\",\"showlegend\":true,\"text\":[\"25\"],\"textposition\":\"auto\",\"type\":\"bar\",\"x\":[\"woman\"],\"xaxis\":\"x\",\"y\":[25],\"yaxis\":\"y\"},{\"alignmentgroup\":\"True\",\"hovertemplate\":\"Words=%{x}<br>Counts=%{text}<extra></extra>\",\"legendgroup\":\"missing\",\"marker\":{\"color\":\"#FECB52\",\"pattern\":{\"shape\":\"\"}},\"name\":\"missing\",\"offsetgroup\":\"missing\",\"orientation\":\"v\",\"showlegend\":true,\"text\":[\"25\"],\"textposition\":\"auto\",\"type\":\"bar\",\"x\":[\"missing\"],\"xaxis\":\"x\",\"y\":[25],\"yaxis\":\"y\"}],                        {\"barmode\":\"relative\",\"legend\":{\"title\":{\"text\":\"Words\"},\"tracegroupgap\":0},\"margin\":{\"t\":60},\"showlegend\":false,\"template\":{\"data\":{\"bar\":[{\"error_x\":{\"color\":\"#2a3f5f\"},\"error_y\":{\"color\":\"#2a3f5f\"},\"marker\":{\"line\":{\"color\":\"#E5ECF6\",\"width\":0.5},\"pattern\":{\"fillmode\":\"overlay\",\"size\":10,\"solidity\":0.2}},\"type\":\"bar\"}],\"barpolar\":[{\"marker\":{\"line\":{\"color\":\"#E5ECF6\",\"width\":0.5},\"pattern\":{\"fillmode\":\"overlay\",\"size\":10,\"solidity\":0.2}},\"type\":\"barpolar\"}],\"carpet\":[{\"aaxis\":{\"endlinecolor\":\"#2a3f5f\",\"gridcolor\":\"white\",\"linecolor\":\"white\",\"minorgridcolor\":\"white\",\"startlinecolor\":\"#2a3f5f\"},\"baxis\":{\"endlinecolor\":\"#2a3f5f\",\"gridcolor\":\"white\",\"linecolor\":\"white\",\"minorgridcolor\":\"white\",\"startlinecolor\":\"#2a3f5f\"},\"type\":\"carpet\"}],\"choropleth\":[{\"colorbar\":{\"outlinewidth\":0,\"ticks\":\"\"},\"type\":\"choropleth\"}],\"contour\":[{\"colorbar\":{\"outlinewidth\":0,\"ticks\":\"\"},\"colorscale\":[[0.0,\"#0d0887\"],[0.1111111111111111,\"#46039f\"],[0.2222222222222222,\"#7201a8\"],[0.3333333333333333,\"#9c179e\"],[0.4444444444444444,\"#bd3786\"],[0.5555555555555556,\"#d8576b\"],[0.6666666666666666,\"#ed7953\"],[0.7777777777777778,\"#fb9f3a\"],[0.8888888888888888,\"#fdca26\"],[1.0,\"#f0f921\"]],\"type\":\"contour\"}],\"contourcarpet\":[{\"colorbar\":{\"outlinewidth\":0,\"ticks\":\"\"},\"type\":\"contourcarpet\"}],\"heatmap\":[{\"colorbar\":{\"outlinewidth\":0,\"ticks\":\"\"},\"colorscale\":[[0.0,\"#0d0887\"],[0.1111111111111111,\"#46039f\"],[0.2222222222222222,\"#7201a8\"],[0.3333333333333333,\"#9c179e\"],[0.4444444444444444,\"#bd3786\"],[0.5555555555555556,\"#d8576b\"],[0.6666666666666666,\"#ed7953\"],[0.7777777777777778,\"#fb9f3a\"],[0.8888888888888888,\"#fdca26\"],[1.0,\"#f0f921\"]],\"type\":\"heatmap\"}],\"heatmapgl\":[{\"colorbar\":{\"outlinewidth\":0,\"ticks\":\"\"},\"colorscale\":[[0.0,\"#0d0887\"],[0.1111111111111111,\"#46039f\"],[0.2222222222222222,\"#7201a8\"],[0.3333333333333333,\"#9c179e\"],[0.4444444444444444,\"#bd3786\"],[0.5555555555555556,\"#d8576b\"],[0.6666666666666666,\"#ed7953\"],[0.7777777777777778,\"#fb9f3a\"],[0.8888888888888888,\"#fdca26\"],[1.0,\"#f0f921\"]],\"type\":\"heatmapgl\"}],\"histogram\":[{\"marker\":{\"pattern\":{\"fillmode\":\"overlay\",\"size\":10,\"solidity\":0.2}},\"type\":\"histogram\"}],\"histogram2d\":[{\"colorbar\":{\"outlinewidth\":0,\"ticks\":\"\"},\"colorscale\":[[0.0,\"#0d0887\"],[0.1111111111111111,\"#46039f\"],[0.2222222222222222,\"#7201a8\"],[0.3333333333333333,\"#9c179e\"],[0.4444444444444444,\"#bd3786\"],[0.5555555555555556,\"#d8576b\"],[0.6666666666666666,\"#ed7953\"],[0.7777777777777778,\"#fb9f3a\"],[0.8888888888888888,\"#fdca26\"],[1.0,\"#f0f921\"]],\"type\":\"histogram2d\"}],\"histogram2dcontour\":[{\"colorbar\":{\"outlinewidth\":0,\"ticks\":\"\"},\"colorscale\":[[0.0,\"#0d0887\"],[0.1111111111111111,\"#46039f\"],[0.2222222222222222,\"#7201a8\"],[0.3333333333333333,\"#9c179e\"],[0.4444444444444444,\"#bd3786\"],[0.5555555555555556,\"#d8576b\"],[0.6666666666666666,\"#ed7953\"],[0.7777777777777778,\"#fb9f3a\"],[0.8888888888888888,\"#fdca26\"],[1.0,\"#f0f921\"]],\"type\":\"histogram2dcontour\"}],\"mesh3d\":[{\"colorbar\":{\"outlinewidth\":0,\"ticks\":\"\"},\"type\":\"mesh3d\"}],\"parcoords\":[{\"line\":{\"colorbar\":{\"outlinewidth\":0,\"ticks\":\"\"}},\"type\":\"parcoords\"}],\"pie\":[{\"automargin\":true,\"type\":\"pie\"}],\"scatter\":[{\"marker\":{\"colorbar\":{\"outlinewidth\":0,\"ticks\":\"\"}},\"type\":\"scatter\"}],\"scatter3d\":[{\"line\":{\"colorbar\":{\"outlinewidth\":0,\"ticks\":\"\"}},\"marker\":{\"colorbar\":{\"outlinewidth\":0,\"ticks\":\"\"}},\"type\":\"scatter3d\"}],\"scattercarpet\":[{\"marker\":{\"colorbar\":{\"outlinewidth\":0,\"ticks\":\"\"}},\"type\":\"scattercarpet\"}],\"scattergeo\":[{\"marker\":{\"colorbar\":{\"outlinewidth\":0,\"ticks\":\"\"}},\"type\":\"scattergeo\"}],\"scattergl\":[{\"marker\":{\"colorbar\":{\"outlinewidth\":0,\"ticks\":\"\"}},\"type\":\"scattergl\"}],\"scattermapbox\":[{\"marker\":{\"colorbar\":{\"outlinewidth\":0,\"ticks\":\"\"}},\"type\":\"scattermapbox\"}],\"scatterpolar\":[{\"marker\":{\"colorbar\":{\"outlinewidth\":0,\"ticks\":\"\"}},\"type\":\"scatterpolar\"}],\"scatterpolargl\":[{\"marker\":{\"colorbar\":{\"outlinewidth\":0,\"ticks\":\"\"}},\"type\":\"scatterpolargl\"}],\"scatterternary\":[{\"marker\":{\"colorbar\":{\"outlinewidth\":0,\"ticks\":\"\"}},\"type\":\"scatterternary\"}],\"surface\":[{\"colorbar\":{\"outlinewidth\":0,\"ticks\":\"\"},\"colorscale\":[[0.0,\"#0d0887\"],[0.1111111111111111,\"#46039f\"],[0.2222222222222222,\"#7201a8\"],[0.3333333333333333,\"#9c179e\"],[0.4444444444444444,\"#bd3786\"],[0.5555555555555556,\"#d8576b\"],[0.6666666666666666,\"#ed7953\"],[0.7777777777777778,\"#fb9f3a\"],[0.8888888888888888,\"#fdca26\"],[1.0,\"#f0f921\"]],\"type\":\"surface\"}],\"table\":[{\"cells\":{\"fill\":{\"color\":\"#EBF0F8\"},\"line\":{\"color\":\"white\"}},\"header\":{\"fill\":{\"color\":\"#C8D4E3\"},\"line\":{\"color\":\"white\"}},\"type\":\"table\"}]},\"layout\":{\"annotationdefaults\":{\"arrowcolor\":\"#2a3f5f\",\"arrowhead\":0,\"arrowwidth\":1},\"autotypenumbers\":\"strict\",\"coloraxis\":{\"colorbar\":{\"outlinewidth\":0,\"ticks\":\"\"}},\"colorscale\":{\"diverging\":[[0,\"#8e0152\"],[0.1,\"#c51b7d\"],[0.2,\"#de77ae\"],[0.3,\"#f1b6da\"],[0.4,\"#fde0ef\"],[0.5,\"#f7f7f7\"],[0.6,\"#e6f5d0\"],[0.7,\"#b8e186\"],[0.8,\"#7fbc41\"],[0.9,\"#4d9221\"],[1,\"#276419\"]],\"sequential\":[[0.0,\"#0d0887\"],[0.1111111111111111,\"#46039f\"],[0.2222222222222222,\"#7201a8\"],[0.3333333333333333,\"#9c179e\"],[0.4444444444444444,\"#bd3786\"],[0.5555555555555556,\"#d8576b\"],[0.6666666666666666,\"#ed7953\"],[0.7777777777777778,\"#fb9f3a\"],[0.8888888888888888,\"#fdca26\"],[1.0,\"#f0f921\"]],\"sequentialminus\":[[0.0,\"#0d0887\"],[0.1111111111111111,\"#46039f\"],[0.2222222222222222,\"#7201a8\"],[0.3333333333333333,\"#9c179e\"],[0.4444444444444444,\"#bd3786\"],[0.5555555555555556,\"#d8576b\"],[0.6666666666666666,\"#ed7953\"],[0.7777777777777778,\"#fb9f3a\"],[0.8888888888888888,\"#fdca26\"],[1.0,\"#f0f921\"]]},\"colorway\":[\"#636efa\",\"#EF553B\",\"#00cc96\",\"#ab63fa\",\"#FFA15A\",\"#19d3f3\",\"#FF6692\",\"#B6E880\",\"#FF97FF\",\"#FECB52\"],\"font\":{\"color\":\"#2a3f5f\"},\"geo\":{\"bgcolor\":\"white\",\"lakecolor\":\"white\",\"landcolor\":\"#E5ECF6\",\"showlakes\":true,\"showland\":true,\"subunitcolor\":\"white\"},\"hoverlabel\":{\"align\":\"left\"},\"hovermode\":\"closest\",\"mapbox\":{\"style\":\"light\"},\"paper_bgcolor\":\"white\",\"plot_bgcolor\":\"#E5ECF6\",\"polar\":{\"angularaxis\":{\"gridcolor\":\"white\",\"linecolor\":\"white\",\"ticks\":\"\"},\"bgcolor\":\"#E5ECF6\",\"radialaxis\":{\"gridcolor\":\"white\",\"linecolor\":\"white\",\"ticks\":\"\"}},\"scene\":{\"xaxis\":{\"backgroundcolor\":\"#E5ECF6\",\"gridcolor\":\"white\",\"gridwidth\":2,\"linecolor\":\"white\",\"showbackground\":true,\"ticks\":\"\",\"zerolinecolor\":\"white\"},\"yaxis\":{\"backgroundcolor\":\"#E5ECF6\",\"gridcolor\":\"white\",\"gridwidth\":2,\"linecolor\":\"white\",\"showbackground\":true,\"ticks\":\"\",\"zerolinecolor\":\"white\"},\"zaxis\":{\"backgroundcolor\":\"#E5ECF6\",\"gridcolor\":\"white\",\"gridwidth\":2,\"linecolor\":\"white\",\"showbackground\":true,\"ticks\":\"\",\"zerolinecolor\":\"white\"}},\"shapedefaults\":{\"line\":{\"color\":\"#2a3f5f\"}},\"ternary\":{\"aaxis\":{\"gridcolor\":\"white\",\"linecolor\":\"white\",\"ticks\":\"\"},\"baxis\":{\"gridcolor\":\"white\",\"linecolor\":\"white\",\"ticks\":\"\"},\"bgcolor\":\"#E5ECF6\",\"caxis\":{\"gridcolor\":\"white\",\"linecolor\":\"white\",\"ticks\":\"\"}},\"title\":{\"x\":0.05},\"xaxis\":{\"automargin\":true,\"gridcolor\":\"white\",\"linecolor\":\"white\",\"ticks\":\"\",\"title\":{\"standoff\":15},\"zerolinecolor\":\"white\",\"zerolinewidth\":2},\"yaxis\":{\"automargin\":true,\"gridcolor\":\"white\",\"linecolor\":\"white\",\"ticks\":\"\",\"title\":{\"standoff\":15},\"zerolinecolor\":\"white\",\"zerolinewidth\":2}}},\"title\":{\"text\":\"Top 10 common words in news titles\",\"x\":0.5},\"xaxis\":{\"anchor\":\"y\",\"categoryarray\":[\"finland\",\"police\",\"finnish\",\"minister\",\"helsinki\",\"marin\",\"government\",\"prime\",\"woman\",\"missing\"],\"categoryorder\":\"array\",\"domain\":[0.0,1.0],\"title\":{\"text\":\"Words\"}},\"yaxis\":{\"anchor\":\"x\",\"domain\":[0.0,1.0],\"title\":{\"text\":\"Counts\"}}},                        {\"responsive\": true}                    ).then(function(){\n",
       "                            \n",
       "var gd = document.getElementById('31f67a5e-718d-490f-af22-c332b5fde647');\n",
       "var x = new MutationObserver(function (mutations, observer) {{\n",
       "        var display = window.getComputedStyle(gd).display;\n",
       "        if (!display || display === 'none') {{\n",
       "            console.log([gd, 'removed!']);\n",
       "            Plotly.purge(gd);\n",
       "            observer.disconnect();\n",
       "        }}\n",
       "}});\n",
       "\n",
       "// Listen for the removal of the full notebook cells\n",
       "var notebookContainer = gd.closest('#notebook-container');\n",
       "if (notebookContainer) {{\n",
       "    x.observe(notebookContainer, {childList: true});\n",
       "}}\n",
       "\n",
       "// Listen for the clearing of the current output cell\n",
       "var outputEl = gd.closest('.output');\n",
       "if (outputEl) {{\n",
       "    x.observe(outputEl, {childList: true});\n",
       "}}\n",
       "\n",
       "                        })                };                });            </script>        </div>"
      ]
     },
     "metadata": {},
     "output_type": "display_data"
    }
   ],
   "source": [
    "df_titles = pd.DataFrame(counts_titles.items(),columns=['Words','Counts'])\n",
    "top_10_titles = df_titles.sort_values(ascending=False,by=['Counts']).head(10)\n",
    "fig = px.bar(data_frame=top_10_titles, x='Words', y='Counts',text='Counts',color='Words',)\n",
    "fig.update_layout(title='Top 10 common words in news titles', title_x=0.5,showlegend=False)\n",
    "fig.show()"
   ]
  },
  {
   "cell_type": "markdown",
   "id": "2a59005b",
   "metadata": {},
   "source": [
    "We see that in National news, the most used words in titles is 'Finland' and the second most used words is 'police'."
   ]
  },
  {
   "cell_type": "markdown",
   "id": "53a07df3",
   "metadata": {},
   "source": [
    "## Counting number of unique words in Content"
   ]
  },
  {
   "cell_type": "code",
   "execution_count": 105,
   "id": "b1a8f948",
   "metadata": {
    "ExecuteTime": {
     "end_time": "2021-08-25T11:32:12.559576Z",
     "start_time": "2021-08-25T11:32:12.522599Z"
    }
   },
   "outputs": [],
   "source": [
    "all_contents = []\n",
    "for j in df.Content:\n",
    "    contents = j.split()\n",
    "    all_contents.append(contents)"
   ]
  },
  {
   "cell_type": "code",
   "execution_count": 112,
   "id": "d7673330",
   "metadata": {
    "ExecuteTime": {
     "end_time": "2021-08-25T11:35:18.661687Z",
     "start_time": "2021-08-25T11:35:18.631705Z"
    }
   },
   "outputs": [
    {
     "name": "stdout",
     "output_type": "stream",
     "text": [
      "['and', 'family', 'members,', 'according', 'to', 'the', 'ministry', 'of', 'foreign', 'affairs.', 'the', 'acceptance', 'of', 'the', '83']\n"
     ]
    }
   ],
   "source": [
    "new_content = list(chain.from_iterable(all_contents))\n",
    "print(new_content[60:75])"
   ]
  },
  {
   "cell_type": "markdown",
   "id": "3c03f1e6",
   "metadata": {},
   "source": [
    "As we can see in the 'new_content' that there are unnecessary letters in our words. We have words like 'affairs.' with punctuations. Hence, we need to get rid of full stops or commas from our words. For this we will use regex."
   ]
  },
  {
   "cell_type": "code",
   "execution_count": 114,
   "id": "adf27185",
   "metadata": {
    "ExecuteTime": {
     "end_time": "2021-08-25T11:37:26.254920Z",
     "start_time": "2021-08-25T11:37:25.754506Z"
    }
   },
   "outputs": [],
   "source": [
    "all_contents = []\n",
    "for i in new_content:\n",
    "    # \\W Matches anything other than a letter, digit or underscore and replaces with ''\n",
    "    all_contents.append(re.sub(pattern = '\\W',repl='',string=i))"
   ]
  },
  {
   "cell_type": "markdown",
   "id": "e24aebe2",
   "metadata": {},
   "source": [
    "Let us remove the stop_words as we have done above and count the frequencies using Counter method."
   ]
  },
  {
   "cell_type": "code",
   "execution_count": 116,
   "id": "ba8d0ae5",
   "metadata": {
    "ExecuteTime": {
     "end_time": "2021-08-25T11:38:44.494374Z",
     "start_time": "2021-08-25T11:38:43.854172Z"
    }
   },
   "outputs": [],
   "source": [
    "filtered_words_contents = [w for w in all_contents if not w in stop_words]\n",
    "contents_counts = Counter(filtered_words_contents)\n",
    "#print(contents_counts)"
   ]
  },
  {
   "cell_type": "code",
   "execution_count": null,
   "id": "1e0e353f",
   "metadata": {},
   "outputs": [],
   "source": []
  }
 ],
 "metadata": {
  "kernelspec": {
   "display_name": "Python 3",
   "language": "python",
   "name": "python3"
  },
  "language_info": {
   "codemirror_mode": {
    "name": "ipython",
    "version": 3
   },
   "file_extension": ".py",
   "mimetype": "text/x-python",
   "name": "python",
   "nbconvert_exporter": "python",
   "pygments_lexer": "ipython3",
   "version": "3.8.8"
  },
  "toc": {
   "base_numbering": 1,
   "nav_menu": {},
   "number_sections": true,
   "sideBar": true,
   "skip_h1_title": false,
   "title_cell": "Table of Contents",
   "title_sidebar": "Contents",
   "toc_cell": false,
   "toc_position": {},
   "toc_section_display": true,
   "toc_window_display": true
  },
  "varInspector": {
   "cols": {
    "lenName": 16,
    "lenType": 16,
    "lenVar": 40
   },
   "kernels_config": {
    "python": {
     "delete_cmd_postfix": "",
     "delete_cmd_prefix": "del ",
     "library": "var_list.py",
     "varRefreshCmd": "print(var_dic_list())"
    },
    "r": {
     "delete_cmd_postfix": ") ",
     "delete_cmd_prefix": "rm(",
     "library": "var_list.r",
     "varRefreshCmd": "cat(var_dic_list()) "
    }
   },
   "types_to_exclude": [
    "module",
    "function",
    "builtin_function_or_method",
    "instance",
    "_Feature"
   ],
   "window_display": false
  }
 },
 "nbformat": 4,
 "nbformat_minor": 5
}
